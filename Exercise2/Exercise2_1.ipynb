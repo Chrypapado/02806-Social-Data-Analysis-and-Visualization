{
 "cells": [
  {
   "cell_type": "markdown",
   "metadata": {},
   "source": [
    "### Libraries"
   ]
  },
  {
   "cell_type": "code",
   "execution_count": 1,
   "metadata": {},
   "outputs": [],
   "source": [
    "import pandas as pd\n",
    "import numpy as np\n",
    "\n",
    "import matplotlib.pyplot as plt\n",
    "\n",
    "import urllib.request\n",
    "\n",
    "from scipy import stats"
   ]
  },
  {
   "cell_type": "markdown",
   "metadata": {},
   "source": [
    "### Downloading Files"
   ]
  },
  {
   "cell_type": "code",
   "execution_count": 2,
   "metadata": {},
   "outputs": [
    {
     "data": {
      "text/plain": [
       "('./Data4.tsv', <http.client.HTTPMessage at 0x7fd67daa3af0>)"
      ]
     },
     "execution_count": 2,
     "metadata": {},
     "output_type": "execute_result"
    }
   ],
   "source": [
    "url1 = 'https://raw.githubusercontent.com/suneman/socialdata2021/master/files/data1.tsv'\n",
    "urllib.request.urlretrieve(url1, './Data1.tsv')\n",
    "\n",
    "url2 = 'https://raw.githubusercontent.com/suneman/socialdata2021/master/files/data2.tsv'\n",
    "urllib.request.urlretrieve(url2, './Data2.tsv')\n",
    "\n",
    "url3 = 'https://raw.githubusercontent.com/suneman/socialdata2021/master/files/data3.tsv'\n",
    "urllib.request.urlretrieve(url3, './Data3.tsv')\n",
    "\n",
    "url4 = 'https://raw.githubusercontent.com/suneman/socialdata2021/master/files/data4.tsv'\n",
    "urllib.request.urlretrieve(url4, './Data4.tsv')"
   ]
  },
  {
   "cell_type": "markdown",
   "metadata": {},
   "source": [
    "### Loading Data"
   ]
  },
  {
   "cell_type": "code",
   "execution_count": 3,
   "metadata": {},
   "outputs": [],
   "source": [
    "col = ['x', 'y']\n",
    "\n",
    "data1 = pd.read_csv('./Data1.tsv', sep='\\t', names=col, header = None)\n",
    "data2 = pd.read_csv('./Data2.tsv', sep='\\t', names=col, header = None)\n",
    "data3 = pd.read_csv('./Data3.tsv', sep='\\t', names=col, header = None)\n",
    "data4 = pd.read_csv('./Data4.tsv', sep='\\t', names=col, header = None)"
   ]
  },
  {
   "cell_type": "markdown",
   "metadata": {},
   "source": [
    "### Calculate the Mean"
   ]
  },
  {
   "cell_type": "code",
   "execution_count": 4,
   "metadata": {},
   "outputs": [],
   "source": [
    "x_mean = [np.mean(data1['x']), np.mean(data2['x']), np.mean(data3['x']), np.mean(data4['x'])]\n",
    "y_mean = [np.mean(data1['y']), np.mean(data2['y']), np.mean(data3['y']), np.mean(data4['y'])]"
   ]
  },
  {
   "cell_type": "markdown",
   "metadata": {},
   "source": [
    "### Printing Results"
   ]
  },
  {
   "cell_type": "code",
   "execution_count": 5,
   "metadata": {},
   "outputs": [
    {
     "name": "stdout",
     "output_type": "stream",
     "text": [
      "From Data1, x mean is: 9.00\n",
      "From Data1, y mean is: 7.50 \n",
      "\n",
      "From Data2, x mean is: 9.00\n",
      "From Data2, y mean is: 7.50 \n",
      "\n",
      "From Data3, x mean is: 9.00\n",
      "From Data3, y mean is: 7.50 \n",
      "\n",
      "From Data4, x mean is: 9.00\n",
      "From Data4, y mean is: 7.50 \n",
      "\n"
     ]
    }
   ],
   "source": [
    "for i in range(4):\n",
    "    print('From Data' + str(i+1) + ', x mean is: %.2f' %x_mean[i])\n",
    "    print('From Data' + str(i+1) + ', y mean is: %.2f' %y_mean[i], '\\n')"
   ]
  },
  {
   "cell_type": "markdown",
   "metadata": {},
   "source": [
    "### Calculate the Variance"
   ]
  },
  {
   "cell_type": "code",
   "execution_count": 6,
   "metadata": {},
   "outputs": [],
   "source": [
    "x_var = [np.var(data1['x']), np.var(data2['x']), np.var(data3['x']), np.var(data4['x'])]\n",
    "y_var = [np.var(data1['y']), np.var(data2['y']), np.var(data3['y']), np.var(data4['y'])]"
   ]
  },
  {
   "cell_type": "markdown",
   "metadata": {},
   "source": [
    "### Printing Results"
   ]
  },
  {
   "cell_type": "code",
   "execution_count": 7,
   "metadata": {},
   "outputs": [
    {
     "name": "stdout",
     "output_type": "stream",
     "text": [
      "From Data1, x variance is: 10.000\n",
      "From Data1, y variance is: 3.752 \n",
      "\n",
      "From Data2, x variance is: 10.000\n",
      "From Data2, y variance is: 3.752 \n",
      "\n",
      "From Data3, x variance is: 10.000\n",
      "From Data3, y variance is: 3.748 \n",
      "\n",
      "From Data4, x variance is: 10.000\n",
      "From Data4, y variance is: 3.748 \n",
      "\n"
     ]
    }
   ],
   "source": [
    "for i in range(4):\n",
    "    print('From Data' + str(i+1) + ', x variance is: %.3f' %x_var[i])\n",
    "    print('From Data' + str(i+1) + ', y variance is: %.3f' %y_var[i], '\\n')"
   ]
  },
  {
   "cell_type": "markdown",
   "metadata": {},
   "source": [
    "### Calculating the Pearson Correlation between x and y"
   ]
  },
  {
   "cell_type": "code",
   "execution_count": 8,
   "metadata": {},
   "outputs": [],
   "source": [
    "data_corr = [np.corrcoef(data1['x'], data1['y'])[0][1], np.corrcoef(data2['x'], data2['y'])[0][1], np.corrcoef(data3['x'], data3['y'])[0][1], np.corrcoef(data4['x'], data4['y'])[0][1]]"
   ]
  },
  {
   "cell_type": "markdown",
   "metadata": {},
   "source": [
    "### Printing Results"
   ]
  },
  {
   "cell_type": "code",
   "execution_count": 9,
   "metadata": {},
   "outputs": [
    {
     "name": "stdout",
     "output_type": "stream",
     "text": [
      "From Data1, Pearson Correlation is: 0.816\n",
      "From Data2, Pearson Correlation is: 0.816\n",
      "From Data3, Pearson Correlation is: 0.816\n",
      "From Data4, Pearson Correlation is: 0.817\n"
     ]
    }
   ],
   "source": [
    "for i in range(4):\n",
    "    print('From Data' + str(i+1) + ', Pearson Correlation is: %.3f' %data_corr[i])"
   ]
  },
  {
   "cell_type": "markdown",
   "metadata": {},
   "source": [
    "### Calculating the Slope and the Intercept"
   ]
  },
  {
   "cell_type": "code",
   "execution_count": 10,
   "metadata": {},
   "outputs": [],
   "source": [
    "slope1, intercept1, r_value1, p_value1, std_err1 = stats.linregress(data1['x'],data1['y'])\n",
    "slope2, intercept2, r_value2, p_value2, std_err2 = stats.linregress(data2['x'],data2['y'])\n",
    "slope3, intercept3, r_value3, p_value3, std_err3 = stats.linregress(data3['x'],data3['y'])\n",
    "slope4, intercept4, r_value4, p_value4, std_err4 = stats.linregress(data4['x'],data4['y'])\n",
    "\n",
    "a = [slope1, slope2, slope3, slope4]\n",
    "b = [intercept1, intercept2, intercept3, intercept4]"
   ]
  },
  {
   "cell_type": "markdown",
   "metadata": {},
   "source": [
    "### Printing Results"
   ]
  },
  {
   "cell_type": "code",
   "execution_count": 11,
   "metadata": {},
   "outputs": [
    {
     "name": "stdout",
     "output_type": "stream",
     "text": [
      "From Data1, a is: 0.50\n",
      "From Data1, b is: 3.00 \n",
      "\n",
      "From Data2, a is: 0.50\n",
      "From Data2, b is: 3.00 \n",
      "\n",
      "From Data3, a is: 0.50\n",
      "From Data3, b is: 3.00 \n",
      "\n",
      "From Data4, a is: 0.50\n",
      "From Data4, b is: 3.00 \n",
      "\n"
     ]
    }
   ],
   "source": [
    "for i in range(4):\n",
    "    print('From Data' + str(i+1) + ', a is: %.2f' %a[i])\n",
    "    print('From Data' + str(i+1) + ', b is: %.2f' %b[i], '\\n')"
   ]
  },
  {
   "cell_type": "markdown",
   "metadata": {},
   "source": [
    "### Plotting the Four Datasets"
   ]
  },
  {
   "cell_type": "code",
   "execution_count": 12,
   "metadata": {},
   "outputs": [],
   "source": [
    "dataList = [data1, data2, data3, data4]"
   ]
  },
  {
   "cell_type": "code",
   "execution_count": 13,
   "metadata": {
    "scrolled": true
   },
   "outputs": [
    {
     "data": {
      "image/png": "[encoded data removed]",
      "text/plain": [
       "<Figure size 1440x1008 with 4 Axes>"
      ]
     },
     "metadata": {
      "needs_background": "light"
     },
     "output_type": "display_data"
    }
   ],
   "source": [
    "datadict = [data1, data2, data3, data4]\n",
    "xlimit = [2,18]\n",
    "col = ['X', 'Y']\n",
    "\n",
    "fig, axes = plt.subplots(nrows=2, ncols=2, figsize=(20,14), sharex=True)\n",
    "\n",
    "for i, data in enumerate(dataList):\n",
    "    #abline_values = [a[i] * j + b[i] for j in globals()['data' + str(i+1)]['x']]\n",
    "    abline_values = [a[i] * j + b[i] for j in xlimit]\n",
    "    axes[i//2,i%2].scatter(globals()['data' + str(i+1)]['x'], globals()['data' + str(i+1)]['y'])\n",
    "    axes[i//2,i%2].plot(xlimit, abline_values, 'r')\n",
    "    #axes[i//2,i%2].plot(globals()['data' + str(i+1)]['x'], abline_values, 'r')\n",
    "    plt.xlim([0, 20])\n",
    "    plt.ylim([0, 14])"
   ]
  },
  {
   "cell_type": "markdown",
   "metadata": {},
   "source": [
    "### Explanation"
   ]
  },
  {
   "cell_type": "markdown",
   "metadata": {},
   "source": [
    "#### This example shows the importance of the graphs. We have four different datasets that have the same stats and seemed similar, but with plotting them one can easily understand that they differ so much. "
   ]
  }
 ],
 "metadata": {
  "kernelspec": {
   "display_name": "Python 3",
   "language": "python",
   "name": "python3"
  },
  "language_info": {
   "codemirror_mode": {
    "name": "ipython",
    "version": 3
   },
   "file_extension": ".py",
   "mimetype": "text/x-python",
   "name": "python",
   "nbconvert_exporter": "python",
   "pygments_lexer": "ipython3",
   "version": "3.8.5"
  }
 },
 "nbformat": 4,
 "nbformat_minor": 4
}
