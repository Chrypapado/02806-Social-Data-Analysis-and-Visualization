{
 "cells": [
  {
   "cell_type": "markdown",
   "metadata": {},
   "source": [
    "#### What is the difference between data and metadata? How does that relate to the bike-example?"
   ]
  },
  {
   "cell_type": "markdown",
   "metadata": {},
   "source": [
    "Basically Data is unorganized facts, that need preprocessing. It could be simple measurements and observations. On the other hand, metadata is information about the data. They can provide us with prior knowledge without even organizing and visualizing the data."
   ]
  },
  {
   "cell_type": "markdown",
   "metadata": {},
   "source": [
    "#### Sune says that the human eye is a great tool for data analysis. Do you agree? Explain why/why not. Mention something that the human eye is very good at. Can you think of something that is difficult for the human eye. Explain why your example is difficult."
   ]
  },
  {
   "cell_type": "markdown",
   "metadata": {},
   "source": [
    "Well yes and no, I do believe that the eye is a great tool for collecting data but the human brain is the one tha preprocess these data. A very good example that the human eye finds diffucult to recognize and collect the correct data can be found in pastry making where they are baking cakes that look exactly the same as day-to-day objects. In that example, touch would be more efficient."
   ]
  },
  {
   "cell_type": "markdown",
   "metadata": {},
   "source": [
    "#### Simpson's paradox is hard to explain. Come up with your own example - or find one on line."
   ]
  },
  {
   "cell_type": "markdown",
   "metadata": {},
   "source": [
    "In the physics department 2 men are accepted and 2 men are rejected and 1 woman is accepted and 1 woman is rejected. In the astronomy department 1 man is accepted and 2 men are rejected, while 2 women are accepted and 4 women are rejected. So overall at the university 3 men got accepted and 4 rejected for a 43% acceptance, while 3 women got accepted and 5 rejected for a 38% acceptance rate. But it may not be discrimination, simply because if each department reviews its own application the for both men and women the acceptance rate is 50%."
   ]
  },
  {
   "cell_type": "markdown",
   "metadata": {},
   "source": [
    "#### In your own words, explain the difference between exploratory and explanatory data analysis."
   ]
  },
  {
   "cell_type": "markdown",
   "metadata": {},
   "source": [
    "Exploratory analysis is when we try to find out about our data and get familiar with it. Try to visualize it and look for patterns, outliers, missing values and much more. Explanotary analysis is when we try to make a presentation about some attributes of our data. Basically creating an output."
   ]
  },
  {
   "cell_type": "markdown",
   "metadata": {},
   "source": [
    "#### As mentioned earlier, visualization is not the only way to test for correlation. We can (for example) calculate the Pearson correlation. Explain in your own words how the Pearson correlation works and write down it's mathematical formulation. Can you think of an example where it fails (and visualization works)?"
   ]
  },
  {
   "cell_type": "markdown",
   "metadata": {},
   "source": [
    "Pearson correlation describes the relationship between two attributes. It can take values from -1 to 1. If the correlation is 1, then both the attributes increase with the same rate.\n",
    "\n",
    "$$p_{X,Y} = \\frac{cov(X,Y)}{σ_{Χ}σ_{Υ}}$$"
   ]
  },
  {
   "cell_type": "markdown",
   "metadata": {},
   "source": [
    "#### What is the difference between a bar-chart and a histogram?"
   ]
  },
  {
   "cell_type": "markdown",
   "metadata": {},
   "source": [
    "We use bar charts for categorical variables and histograms for continuous's ones."
   ]
  },
  {
   "cell_type": "markdown",
   "metadata": {},
   "source": [
    "#### I mention in the video that it's important to choose the right bin-size in histograms. But how do you do that? Do a Google search to find a criterion you like and explain it."
   ]
  },
  {
   "cell_type": "markdown",
   "metadata": {},
   "source": [
    "1) Find the smallest and largest data point  \n",
    "2) Lower the minimum a little and raise the maximum a little  \n",
    "3) Decide how many bins you need   \n",
    "4) Divide your range (the numbers in your data set) by the bins for the bin size"
   ]
  }
 ],
 "metadata": {
  "kernelspec": {
   "display_name": "Python 3",
   "language": "python",
   "name": "python3"
  },
  "language_info": {
   "codemirror_mode": {
    "name": "ipython",
    "version": 3
   },
   "file_extension": ".py",
   "mimetype": "text/x-python",
   "name": "python",
   "nbconvert_exporter": "python",
   "pygments_lexer": "ipython3",
   "version": "3.8.5"
  }
 },
 "nbformat": 4,
 "nbformat_minor": 4
}
