{
 "cells": [
  {
   "cell_type": "markdown",
   "metadata": {},
   "source": [
    "### Libraries"
   ]
  },
  {
   "cell_type": "code",
   "execution_count": 1,
   "metadata": {},
   "outputs": [],
   "source": [
    "import pandas as pd\n",
    "import numpy as np\n",
    "\n",
    "from bokeh.io import output_notebook, show\n",
    "from bokeh.models import ColumnDataSource, FactorRange, Legend\n",
    "from bokeh.plotting import figure\n",
    "\n",
    "import seaborn as sns"
   ]
  },
  {
   "cell_type": "markdown",
   "metadata": {},
   "source": [
    "### Importing the Crime Data"
   ]
  },
  {
   "cell_type": "code",
   "execution_count": 2,
   "metadata": {},
   "outputs": [],
   "source": [
    "data = pd.read_csv('Police_Department_Incident_Reports__Historical_2003_to_May_2018.csv')"
   ]
  },
  {
   "cell_type": "markdown",
   "metadata": {},
   "source": [
    "### Filter the Data for the Period 2010-2018"
   ]
  },
  {
   "cell_type": "code",
   "execution_count": 3,
   "metadata": {},
   "outputs": [],
   "source": [
    "data = data[data['Date'].str.strip().str[-4:].isin(['2010','2011','2012','2013', '2014', \n",
    "                                                    '2015','2016','2017','2018'])]"
   ]
  },
  {
   "cell_type": "markdown",
   "metadata": {},
   "source": [
    "### Focus Crimes"
   ]
  },
  {
   "cell_type": "code",
   "execution_count": 4,
   "metadata": {},
   "outputs": [],
   "source": [
    "focuscrimes = set(['WEAPON LAWS', 'PROSTITUTION', 'DRIVING UNDER THE INFLUENCE', 'ROBBERY', 'BURGLARY', 'ASSAULT', 'DRUNKENNESS', 'DRUG/NARCOTIC', 'TRESPASS', 'LARCENY/THEFT', 'VANDALISM', 'VEHICLE THEFT', 'STOLEN PROPERTY', 'DISORDERLY CONDUCT'])\n",
    "data = data[data['Category'].isin(focuscrimes)]"
   ]
  },
  {
   "cell_type": "markdown",
   "metadata": {},
   "source": [
    "### Creating the Hour Column"
   ]
  },
  {
   "cell_type": "code",
   "execution_count": 5,
   "metadata": {},
   "outputs": [],
   "source": [
    "data['Hour'] = data['Time'].str.strip().str[0:2]\n",
    "\n",
    "hours = ['Midnight - 1am', '1am - 2am', '2am - 3am', '3am - 4am', '4am - 5am', '5am - 6am', '6am - 7am', '7am - 8am', '8am - 9am', '9am - 10am', '10am - 11am', '11am - Noon', 'Noon - 1pm', '1pm - 2pm', '2pm - 3pm', '3pm - 4pm', '4pm - 5pm', '5pm - 6pm', '6pm - 7pm', '7pm - 8pm', '8pm - 9pm', '9pm - 10pm', '10pm - 11pm', '11pm - Midnight']\n",
    "temp_hour = ['00', '01', '02', '03', '04', '05', '06', '07', '08', '09', '10', '11', '12', '13', '14', '15', '16', '17', '18', '19', '20', '21', '22', '23']\n",
    "\n",
    "for i in range(9):\n",
    "    data['Hour'] = data['Hour'].str.replace(temp_hour[i], hours[i])    \n",
    "data['Hour'] = data['Hour'].str.replace('09', '%temp1%').replace('10', '%temp2%').replace('11', '11am - Noon').replace('%temp2%', '10am - 11am').replace('%temp1%', '9am - 10am')\n",
    "for i in range(12):\n",
    "    data['Hour'] = data['Hour'].str.replace(temp_hour[i+12], hours[i+12])"
   ]
  },
  {
   "cell_type": "markdown",
   "metadata": {},
   "source": [
    "### Create the Hourly DataFrame"
   ]
  },
  {
   "cell_type": "code",
   "execution_count": 6,
   "metadata": {},
   "outputs": [],
   "source": [
    "hourData = pd.pivot_table(data, index = \"Hour\", columns = \"Category\",values = 'IncidntNum' ,aggfunc = 'count')\n",
    "hourData = hourData.reindex(hours)"
   ]
  },
  {
   "cell_type": "markdown",
   "metadata": {},
   "source": [
    "### Normalized Data"
   ]
  },
  {
   "cell_type": "code",
   "execution_count": 7,
   "metadata": {},
   "outputs": [],
   "source": [
    "normal = hourData.copy()\n",
    "normal = normal.astype(float)\n",
    "\n",
    "for i in range(hourData.shape[1]):\n",
    "    for j in range(hourData.shape[0]):      \n",
    "        normal.iloc[:,i][j] = hourData.iloc[:,i][j] / sum(hourData.iloc[:,i])"
   ]
  },
  {
   "cell_type": "markdown",
   "metadata": {},
   "source": [
    "### Convert Pandas DataFrame to Bokeh ColumnDataSource"
   ]
  },
  {
   "cell_type": "code",
   "execution_count": 8,
   "metadata": {},
   "outputs": [],
   "source": [
    "source = ColumnDataSource(normal)"
   ]
  },
  {
   "cell_type": "markdown",
   "metadata": {},
   "source": [
    "### Output Notebook"
   ]
  },
  {
   "cell_type": "code",
   "execution_count": 9,
   "metadata": {},
   "outputs": [
    {
     "data": {
      "text/html": [
       "\n",
       "    <div class=\"bk-root\">\n",
       "        <a href=\"https://bokeh.org\" target=\"_blank\" class=\"bk-logo bk-logo-small bk-logo-notebook\"></a>\n",
       "        <span id=\"1003\">Loading BokehJS ...</span>\n",
       "    </div>"
      ]
     },
     "metadata": {},
     "output_type": "display_data"
    },
    {
     "data": {
      "application/javascript": [
       "\n",
       "(function(root) {\n",
       "  function now() {\n",
       "    return new Date();\n",
       "  }\n",
       "\n",
       "  var force = true;\n",
       "\n",
       "  if (typeof root._bokeh_onload_callbacks === \"undefined\" || force === true) {\n",
       "    root._bokeh_onload_callbacks = [];\n",
       "    root._bokeh_is_loading = undefined;\n",
       "  }\n",
       "\n",
       "  var JS_MIME_TYPE = 'application/javascript';\n",
       "  var HTML_MIME_TYPE = 'text/html';\n",
       "  var EXEC_MIME_TYPE = 'application/vnd.bokehjs_exec.v0+json';\n",
       "  var CLASS_NAME = 'output_bokeh rendered_html';\n",
       "\n",
       "  /**\n",
       "   * Render data to the DOM node\n",
       "   */\n",
       "  function render(props, node) {\n",
       "    var script = document.createElement(\"script\");\n",
       "    node.appendChild(script);\n",
       "  }\n",
       "\n",
       "  /**\n",
       "   * Handle when an output is cleared or removed\n",
       "   */\n",
       "  function handleClearOutput(event, handle) {\n",
       "    var cell = handle.cell;\n",
       "\n",
       "    var id = cell.output_area._bokeh_element_id;\n",
       "    var server_id = cell.output_area._bokeh_server_id;\n",
       "    // Clean up Bokeh references\n",
       "    if (id != null && id in Bokeh.index) {\n",
       "      Bokeh.index[id].model.document.clear();\n",
       "      delete Bokeh.index[id];\n",
       "    }\n",
       "\n",
       "    if (server_id !== undefined) {\n",
       "      // Clean up Bokeh references\n",
       "      var cmd = \"from bokeh.io.state import curstate; print(curstate().uuid_to_server['\" + server_id + \"'].get_sessions()[0].document.roots[0]._id)\";\n",
       "      cell.notebook.kernel.execute(cmd, {\n",
       "        iopub: {\n",
       "          output: function(msg) {\n",
       "            var id = msg.content.text.trim();\n",
       "            if (id in Bokeh.index) {\n",
       "              Bokeh.index[id].model.document.clear();\n",
       "              delete Bokeh.index[id];\n",
       "            }\n",
       "          }\n",
       "        }\n",
       "      });\n",
       "      // Destroy server and session\n",
       "      var cmd = \"import bokeh.io.notebook as ion; ion.destroy_server('\" + server_id + \"')\";\n",
       "      cell.notebook.kernel.execute(cmd);\n",
       "    }\n",
       "  }\n",
       "\n",
       "  /**\n",
       "   * Handle when a new output is added\n",
       "   */\n",
       "  function handleAddOutput(event, handle) {\n",
       "    var output_area = handle.output_area;\n",
       "    var output = handle.output;\n",
       "\n",
       "    // limit handleAddOutput to display_data with EXEC_MIME_TYPE content only\n",
       "    if ((output.output_type != \"display_data\") || (!Object.prototype.hasOwnProperty.call(output.data, EXEC_MIME_TYPE))) {\n",
       "      return\n",
       "    }\n",
       "\n",
       "    var toinsert = output_area.element.find(\".\" + CLASS_NAME.split(' ')[0]);\n",
       "\n",
       "    if (output.metadata[EXEC_MIME_TYPE][\"id\"] !== undefined) {\n",
       "      toinsert[toinsert.length - 1].firstChild.textContent = output.data[JS_MIME_TYPE];\n",
       "      // store reference to embed id on output_area\n",
       "      output_area._bokeh_element_id = output.metadata[EXEC_MIME_TYPE][\"id\"];\n",
       "    }\n",
       "    if (output.metadata[EXEC_MIME_TYPE][\"server_id\"] !== undefined) {\n",
       "      var bk_div = document.createElement(\"div\");\n",
       "      bk_div.innerHTML = output.data[HTML_MIME_TYPE];\n",
       "      var script_attrs = bk_div.children[0].attributes;\n",
       "      for (var i = 0; i < script_attrs.length; i++) {\n",
       "        toinsert[toinsert.length - 1].firstChild.setAttribute(script_attrs[i].name, script_attrs[i].value);\n",
       "        toinsert[toinsert.length - 1].firstChild.textContent = bk_div.children[0].textContent\n",
       "      }\n",
       "      // store reference to server id on output_area\n",
       "      output_area._bokeh_server_id = output.metadata[EXEC_MIME_TYPE][\"server_id\"];\n",
       "    }\n",
       "  }\n",
       "\n",
       "  function register_renderer(events, OutputArea) {\n",
       "\n",
       "    function append_mime(data, metadata, element) {\n",
       "      // create a DOM node to render to\n",
       "      var toinsert = this.create_output_subarea(\n",
       "        metadata,\n",
       "        CLASS_NAME,\n",
       "        EXEC_MIME_TYPE\n",
       "      );\n",
       "      this.keyboard_manager.register_events(toinsert);\n",
       "      // Render to node\n",
       "      var props = {data: data, metadata: metadata[EXEC_MIME_TYPE]};\n",
       "      render(props, toinsert[toinsert.length - 1]);\n",
       "      element.append(toinsert);\n",
       "      return toinsert\n",
       "    }\n",
       "\n",
       "    /* Handle when an output is cleared or removed */\n",
       "    events.on('clear_output.CodeCell', handleClearOutput);\n",
       "    events.on('delete.Cell', handleClearOutput);\n",
       "\n",
       "    /* Handle when a new output is added */\n",
       "    events.on('output_added.OutputArea', handleAddOutput);\n",
       "\n",
       "    /**\n",
       "     * Register the mime type and append_mime function with output_area\n",
       "     */\n",
       "    OutputArea.prototype.register_mime_type(EXEC_MIME_TYPE, append_mime, {\n",
       "      /* Is output safe? */\n",
       "      safe: true,\n",
       "      /* Index of renderer in `output_area.display_order` */\n",
       "      index: 0\n",
       "    });\n",
       "  }\n",
       "\n",
       "  // register the mime type if in Jupyter Notebook environment and previously unregistered\n",
       "  if (root.Jupyter !== undefined) {\n",
       "    var events = require('base/js/events');\n",
       "    var OutputArea = require('notebook/js/outputarea').OutputArea;\n",
       "\n",
       "    if (OutputArea.prototype.mime_types().indexOf(EXEC_MIME_TYPE) == -1) {\n",
       "      register_renderer(events, OutputArea);\n",
       "    }\n",
       "  }\n",
       "\n",
       "  \n",
       "  if (typeof (root._bokeh_timeout) === \"undefined\" || force === true) {\n",
       "    root._bokeh_timeout = Date.now() + 5000;\n",
       "    root._bokeh_failed_load = false;\n",
       "  }\n",
       "\n",
       "  var NB_LOAD_WARNING = {'data': {'text/html':\n",
       "     \"<div style='background-color: #fdd'>\\n\"+\n",
       "     \"<p>\\n\"+\n",
       "     \"BokehJS does not appear to have successfully loaded. If loading BokehJS from CDN, this \\n\"+\n",
       "     \"may be due to a slow or bad network connection. Possible fixes:\\n\"+\n",
       "     \"</p>\\n\"+\n",
       "     \"<ul>\\n\"+\n",
       "     \"<li>re-rerun `output_notebook()` to attempt to load from CDN again, or</li>\\n\"+\n",
       "     \"<li>use INLINE resources instead, as so:</li>\\n\"+\n",
       "     \"</ul>\\n\"+\n",
       "     \"<code>\\n\"+\n",
       "     \"from bokeh.resources import INLINE\\n\"+\n",
       "     \"output_notebook(resources=INLINE)\\n\"+\n",
       "     \"</code>\\n\"+\n",
       "     \"</div>\"}};\n",
       "\n",
       "  function display_loaded() {\n",
       "    var el = document.getElementById(\"1003\");\n",
       "    if (el != null) {\n",
       "      el.textContent = \"BokehJS is loading...\";\n",
       "    }\n",
       "    if (root.Bokeh !== undefined) {\n",
       "      if (el != null) {\n",
       "        el.textContent = \"BokehJS \" + root.Bokeh.version + \" successfully loaded.\";\n",
       "      }\n",
       "    } else if (Date.now() < root._bokeh_timeout) {\n",
       "      setTimeout(display_loaded, 100)\n",
       "    }\n",
       "  }\n",
       "\n",
       "\n",
       "  function run_callbacks() {\n",
       "    try {\n",
       "      root._bokeh_onload_callbacks.forEach(function(callback) {\n",
       "        if (callback != null)\n",
       "          callback();\n",
       "      });\n",
       "    } finally {\n",
       "      delete root._bokeh_onload_callbacks\n",
       "    }\n",
       "    console.debug(\"Bokeh: all callbacks have finished\");\n",
       "  }\n",
       "\n",
       "  function load_libs(css_urls, js_urls, callback) {\n",
       "    if (css_urls == null) css_urls = [];\n",
       "    if (js_urls == null) js_urls = [];\n",
       "\n",
       "    root._bokeh_onload_callbacks.push(callback);\n",
       "    if (root._bokeh_is_loading > 0) {\n",
       "      console.debug(\"Bokeh: BokehJS is being loaded, scheduling callback at\", now());\n",
       "      return null;\n",
       "    }\n",
       "    if (js_urls == null || js_urls.length === 0) {\n",
       "      run_callbacks();\n",
       "      return null;\n",
       "    }\n",
       "    console.debug(\"Bokeh: BokehJS not loaded, scheduling load and callback at\", now());\n",
       "    root._bokeh_is_loading = css_urls.length + js_urls.length;\n",
       "\n",
       "    function on_load() {\n",
       "      root._bokeh_is_loading--;\n",
       "      if (root._bokeh_is_loading === 0) {\n",
       "        console.debug(\"Bokeh: all BokehJS libraries/stylesheets loaded\");\n",
       "        run_callbacks()\n",
       "      }\n",
       "    }\n",
       "\n",
       "    function on_error(url) {\n",
       "      console.error(\"failed to load \" + url);\n",
       "    }\n",
       "\n",
       "    for (let i = 0; i < css_urls.length; i++) {\n",
       "      const url = css_urls[i];\n",
       "      const element = document.createElement(\"link\");\n",
       "      element.onload = on_load;\n",
       "      element.onerror = on_error.bind(null, url);\n",
       "      element.rel = \"stylesheet\";\n",
       "      element.type = \"text/css\";\n",
       "      element.href = url;\n",
       "      console.debug(\"Bokeh: injecting link tag for BokehJS stylesheet: \", url);\n",
       "      document.body.appendChild(element);\n",
       "    }\n",
       "\n",
       "    const hashes = {\"https://cdn.bokeh.org/bokeh/release/bokeh-2.3.0.min.js\": \"HjagQp6T0/7bxYTAXbLotF1MLAGWmhkY5siA1Gc/pcEgvgRPtMsRn0gQtMwGKiw1\", \"https://cdn.bokeh.org/bokeh/release/bokeh-widgets-2.3.0.min.js\": \"ZEPPTjL+mdyqgIq+/pl9KTwzji8Kow2NnI3zWY8+sFinWP/SYJ80BnfeJsa45iYj\", \"https://cdn.bokeh.org/bokeh/release/bokeh-tables-2.3.0.min.js\": \"exLqv2ACDRIaV7ZK1iL8aGzGYQvKVuT3U2CT7FsQREBxRah6JrkVCoFy0koY1YqV\"};\n",
       "\n",
       "    for (let i = 0; i < js_urls.length; i++) {\n",
       "      const url = js_urls[i];\n",
       "      const element = document.createElement('script');\n",
       "      element.onload = on_load;\n",
       "      element.onerror = on_error.bind(null, url);\n",
       "      element.async = false;\n",
       "      element.src = url;\n",
       "      if (url in hashes) {\n",
       "        element.crossOrigin = \"anonymous\";\n",
       "        element.integrity = \"sha384-\" + hashes[url];\n",
       "      }\n",
       "      console.debug(\"Bokeh: injecting script tag for BokehJS library: \", url);\n",
       "      document.head.appendChild(element);\n",
       "    }\n",
       "  };\n",
       "\n",
       "  function inject_raw_css(css) {\n",
       "    const element = document.createElement(\"style\");\n",
       "    element.appendChild(document.createTextNode(css));\n",
       "    document.body.appendChild(element);\n",
       "  }\n",
       "\n",
       "  \n",
       "  var js_urls = [\"https://cdn.bokeh.org/bokeh/release/bokeh-2.3.0.min.js\", \"https://cdn.bokeh.org/bokeh/release/bokeh-widgets-2.3.0.min.js\", \"https://cdn.bokeh.org/bokeh/release/bokeh-tables-2.3.0.min.js\"];\n",
       "  var css_urls = [];\n",
       "  \n",
       "\n",
       "  var inline_js = [\n",
       "    function(Bokeh) {\n",
       "      Bokeh.set_log_level(\"info\");\n",
       "    },\n",
       "    function(Bokeh) {\n",
       "    \n",
       "    \n",
       "    }\n",
       "  ];\n",
       "\n",
       "  function run_inline_js() {\n",
       "    \n",
       "    if (root.Bokeh !== undefined || force === true) {\n",
       "      \n",
       "    for (var i = 0; i < inline_js.length; i++) {\n",
       "      inline_js[i].call(root, root.Bokeh);\n",
       "    }\n",
       "    if (force === true) {\n",
       "        display_loaded();\n",
       "      }} else if (Date.now() < root._bokeh_timeout) {\n",
       "      setTimeout(run_inline_js, 100);\n",
       "    } else if (!root._bokeh_failed_load) {\n",
       "      console.log(\"Bokeh: BokehJS failed to load within specified timeout.\");\n",
       "      root._bokeh_failed_load = true;\n",
       "    } else if (force !== true) {\n",
       "      var cell = $(document.getElementById(\"1003\")).parents('.cell').data().cell;\n",
       "      cell.output_area.append_execute_result(NB_LOAD_WARNING)\n",
       "    }\n",
       "\n",
       "  }\n",
       "\n",
       "  if (root._bokeh_is_loading === 0) {\n",
       "    console.debug(\"Bokeh: BokehJS loaded, going straight to plotting\");\n",
       "    run_inline_js();\n",
       "  } else {\n",
       "    load_libs(css_urls, js_urls, function() {\n",
       "      console.debug(\"Bokeh: BokehJS plotting callback run at\", now());\n",
       "      run_inline_js();\n",
       "    });\n",
       "  }\n",
       "}(window));"
      ],
      "application/vnd.bokehjs_load.v0+json": "\n(function(root) {\n  function now() {\n    return new Date();\n  }\n\n  var force = true;\n\n  if (typeof root._bokeh_onload_callbacks === \"undefined\" || force === true) {\n    root._bokeh_onload_callbacks = [];\n    root._bokeh_is_loading = undefined;\n  }\n\n  \n\n  \n  if (typeof (root._bokeh_timeout) === \"undefined\" || force === true) {\n    root._bokeh_timeout = Date.now() + 5000;\n    root._bokeh_failed_load = false;\n  }\n\n  var NB_LOAD_WARNING = {'data': {'text/html':\n     \"<div style='background-color: #fdd'>\\n\"+\n     \"<p>\\n\"+\n     \"BokehJS does not appear to have successfully loaded. If loading BokehJS from CDN, this \\n\"+\n     \"may be due to a slow or bad network connection. Possible fixes:\\n\"+\n     \"</p>\\n\"+\n     \"<ul>\\n\"+\n     \"<li>re-rerun `output_notebook()` to attempt to load from CDN again, or</li>\\n\"+\n     \"<li>use INLINE resources instead, as so:</li>\\n\"+\n     \"</ul>\\n\"+\n     \"<code>\\n\"+\n     \"from bokeh.resources import INLINE\\n\"+\n     \"output_notebook(resources=INLINE)\\n\"+\n     \"</code>\\n\"+\n     \"</div>\"}};\n\n  function display_loaded() {\n    var el = document.getElementById(\"1003\");\n    if (el != null) {\n      el.textContent = \"BokehJS is loading...\";\n    }\n    if (root.Bokeh !== undefined) {\n      if (el != null) {\n        el.textContent = \"BokehJS \" + root.Bokeh.version + \" successfully loaded.\";\n      }\n    } else if (Date.now() < root._bokeh_timeout) {\n      setTimeout(display_loaded, 100)\n    }\n  }\n\n\n  function run_callbacks() {\n    try {\n      root._bokeh_onload_callbacks.forEach(function(callback) {\n        if (callback != null)\n          callback();\n      });\n    } finally {\n      delete root._bokeh_onload_callbacks\n    }\n    console.debug(\"Bokeh: all callbacks have finished\");\n  }\n\n  function load_libs(css_urls, js_urls, callback) {\n    if (css_urls == null) css_urls = [];\n    if (js_urls == null) js_urls = [];\n\n    root._bokeh_onload_callbacks.push(callback);\n    if (root._bokeh_is_loading > 0) {\n      console.debug(\"Bokeh: BokehJS is being loaded, scheduling callback at\", now());\n      return null;\n    }\n    if (js_urls == null || js_urls.length === 0) {\n      run_callbacks();\n      return null;\n    }\n    console.debug(\"Bokeh: BokehJS not loaded, scheduling load and callback at\", now());\n    root._bokeh_is_loading = css_urls.length + js_urls.length;\n\n    function on_load() {\n      root._bokeh_is_loading--;\n      if (root._bokeh_is_loading === 0) {\n        console.debug(\"Bokeh: all BokehJS libraries/stylesheets loaded\");\n        run_callbacks()\n      }\n    }\n\n    function on_error(url) {\n      console.error(\"failed to load \" + url);\n    }\n\n    for (let i = 0; i < css_urls.length; i++) {\n      const url = css_urls[i];\n      const element = document.createElement(\"link\");\n      element.onload = on_load;\n      element.onerror = on_error.bind(null, url);\n      element.rel = \"stylesheet\";\n      element.type = \"text/css\";\n      element.href = url;\n      console.debug(\"Bokeh: injecting link tag for BokehJS stylesheet: \", url);\n      document.body.appendChild(element);\n    }\n\n    const hashes = {\"https://cdn.bokeh.org/bokeh/release/bokeh-2.3.0.min.js\": \"HjagQp6T0/7bxYTAXbLotF1MLAGWmhkY5siA1Gc/pcEgvgRPtMsRn0gQtMwGKiw1\", \"https://cdn.bokeh.org/bokeh/release/bokeh-widgets-2.3.0.min.js\": \"ZEPPTjL+mdyqgIq+/pl9KTwzji8Kow2NnI3zWY8+sFinWP/SYJ80BnfeJsa45iYj\", \"https://cdn.bokeh.org/bokeh/release/bokeh-tables-2.3.0.min.js\": \"exLqv2ACDRIaV7ZK1iL8aGzGYQvKVuT3U2CT7FsQREBxRah6JrkVCoFy0koY1YqV\"};\n\n    for (let i = 0; i < js_urls.length; i++) {\n      const url = js_urls[i];\n      const element = document.createElement('script');\n      element.onload = on_load;\n      element.onerror = on_error.bind(null, url);\n      element.async = false;\n      element.src = url;\n      if (url in hashes) {\n        element.crossOrigin = \"anonymous\";\n        element.integrity = \"sha384-\" + hashes[url];\n      }\n      console.debug(\"Bokeh: injecting script tag for BokehJS library: \", url);\n      document.head.appendChild(element);\n    }\n  };\n\n  function inject_raw_css(css) {\n    const element = document.createElement(\"style\");\n    element.appendChild(document.createTextNode(css));\n    document.body.appendChild(element);\n  }\n\n  \n  var js_urls = [\"https://cdn.bokeh.org/bokeh/release/bokeh-2.3.0.min.js\", \"https://cdn.bokeh.org/bokeh/release/bokeh-widgets-2.3.0.min.js\", \"https://cdn.bokeh.org/bokeh/release/bokeh-tables-2.3.0.min.js\"];\n  var css_urls = [];\n  \n\n  var inline_js = [\n    function(Bokeh) {\n      Bokeh.set_log_level(\"info\");\n    },\n    function(Bokeh) {\n    \n    \n    }\n  ];\n\n  function run_inline_js() {\n    \n    if (root.Bokeh !== undefined || force === true) {\n      \n    for (var i = 0; i < inline_js.length; i++) {\n      inline_js[i].call(root, root.Bokeh);\n    }\n    if (force === true) {\n        display_loaded();\n      }} else if (Date.now() < root._bokeh_timeout) {\n      setTimeout(run_inline_js, 100);\n    } else if (!root._bokeh_failed_load) {\n      console.log(\"Bokeh: BokehJS failed to load within specified timeout.\");\n      root._bokeh_failed_load = true;\n    } else if (force !== true) {\n      var cell = $(document.getElementById(\"1003\")).parents('.cell').data().cell;\n      cell.output_area.append_execute_result(NB_LOAD_WARNING)\n    }\n\n  }\n\n  if (root._bokeh_is_loading === 0) {\n    console.debug(\"Bokeh: BokehJS loaded, going straight to plotting\");\n    run_inline_js();\n  } else {\n    load_libs(css_urls, js_urls, function() {\n      console.debug(\"Bokeh: BokehJS plotting callback run at\", now());\n      run_inline_js();\n    });\n  }\n}(window));"
     },
     "metadata": {},
     "output_type": "display_data"
    }
   ],
   "source": [
    "output_notebook()"
   ]
  },
  {
   "cell_type": "markdown",
   "metadata": {},
   "source": [
    "### Create an Empty Figure"
   ]
  },
  {
   "cell_type": "code",
   "execution_count": 10,
   "metadata": {},
   "outputs": [],
   "source": [
    "p = figure(x_range=FactorRange(factors=normal.index),\n",
    "           plot_width=1200,\n",
    "           title='Crimes per Hour', \n",
    "           x_axis_label='Hour of the Day', \n",
    "           y_axis_label='Relative Frequency')"
   ]
  },
  {
   "cell_type": "markdown",
   "metadata": {},
   "source": [
    "### Different Colors for Different Crime"
   ]
  },
  {
   "cell_type": "code",
   "execution_count": 11,
   "metadata": {},
   "outputs": [],
   "source": [
    "cmap = sns.color_palette('icefire', len(normal.columns)).as_hex()"
   ]
  },
  {
   "cell_type": "markdown",
   "metadata": {},
   "source": [
    "### Add the Bars"
   ]
  },
  {
   "cell_type": "code",
   "execution_count": 12,
   "metadata": {},
   "outputs": [],
   "source": [
    "bar = {}\n",
    "items = []\n",
    "\n",
    "for i, crime in enumerate(focuscrimes):\n",
    "    bar[crime] = p.vbar(x='Hour', \n",
    "                    top=crime, \n",
    "                    source=source, \n",
    "                    width=0.7,\n",
    "                    color=cmap[i],\n",
    "                    fill_alpha=1.5,\n",
    "                    muted=True, \n",
    "                    muted_alpha=0.005) \n",
    "    items.append((crime, [bar[crime]]))"
   ]
  },
  {
   "cell_type": "markdown",
   "metadata": {},
   "source": [
    "### Figure Settings"
   ]
  },
  {
   "cell_type": "code",
   "execution_count": 13,
   "metadata": {},
   "outputs": [],
   "source": [
    "p.xaxis.major_label_orientation = 1\n",
    "p.y_range.start = 0"
   ]
  },
  {
   "cell_type": "markdown",
   "metadata": {},
   "source": [
    "### Create an Interactive Legend"
   ]
  },
  {
   "cell_type": "code",
   "execution_count": 14,
   "metadata": {},
   "outputs": [
    {
     "data": {
      "text/html": [
       "\n",
       "\n",
       "\n",
       "\n",
       "\n",
       "\n",
       "  <div class=\"bk-root\" id=\"4f4b0505-82bd-48d3-89c1-4f4aec25021b\" data-root-id=\"1005\"></div>\n"
      ]
     },
     "metadata": {},
     "output_type": "display_data"
    },
    {
     "data": {
      "application/javascript": [
       "(function(root) {\n",
       "  function embed_document(root) {\n",
       "    \n",
       "  var docs_json = {\"e0395030-bf59-451b-b300-0b760d6211c9\":{\"defs\":[{\"extends\":null,\"module\":null,\"name\":\"DataModel\",\"overrides\":[],\"properties\":[]}],\"roots\":{\"references\":[{\"attributes\":{\"below\":[{\"id\":\"1015\"}],\"center\":[{\"id\":\"1017\"},{\"id\":\"1021\"}],\"left\":[{\"id\":\"1018\"},{\"id\":\"1120\"}],\"renderers\":[{\"id\":\"1040\"},{\"id\":\"1046\"},{\"id\":\"1052\"},{\"id\":\"1058\"},{\"id\":\"1064\"},{\"id\":\"1070\"},{\"id\":\"1076\"},{\"id\":\"1082\"},{\"id\":\"1088\"},{\"id\":\"1094\"},{\"id\":\"1100\"},{\"id\":\"1106\"},{\"id\":\"1112\"},{\"id\":\"1118\"}],\"title\":{\"id\":\"1006\"},\"toolbar\":{\"id\":\"1029\"},\"width\":1200,\"x_range\":{\"id\":\"1004\"},\"x_scale\":{\"id\":\"1011\"},\"y_range\":{\"id\":\"1009\"},\"y_scale\":{\"id\":\"1013\"}},\"id\":\"1005\",\"subtype\":\"Figure\",\"type\":\"Plot\"},{\"attributes\":{\"data_source\":{\"id\":\"1002\"},\"glyph\":{\"id\":\"1085\"},\"hover_glyph\":null,\"muted\":true,\"muted_glyph\":{\"id\":\"1087\"},\"nonselection_glyph\":{\"id\":\"1086\"},\"view\":{\"id\":\"1089\"}},\"id\":\"1088\",\"type\":\"GlyphRenderer\"},{\"attributes\":{\"data_source\":{\"id\":\"1002\"},\"glyph\":{\"id\":\"1103\"},\"hover_glyph\":null,\"muted\":true,\"muted_glyph\":{\"id\":\"1105\"},\"nonselection_glyph\":{\"id\":\"1104\"},\"view\":{\"id\":\"1107\"}},\"id\":\"1106\",\"type\":\"GlyphRenderer\"},{\"attributes\":{\"fill_alpha\":{\"value\":0.1},\"fill_color\":{\"value\":\"#d34936\"},\"line_alpha\":{\"value\":0.1},\"line_color\":{\"value\":\"#d34936\"},\"top\":{\"field\":\"DRUG/NARCOTIC\"},\"width\":{\"value\":0.7},\"x\":{\"field\":\"Hour\"}},\"id\":\"1104\",\"type\":\"VBar\"},{\"attributes\":{\"label\":{\"value\":\"ROBBERY\"},\"renderers\":[{\"id\":\"1112\"}]},\"id\":\"1133\",\"type\":\"LegendItem\"},{\"attributes\":{\"fill_alpha\":{\"value\":0.005},\"fill_color\":{\"value\":\"#5aa7cd\"},\"line_alpha\":{\"value\":0.005},\"line_color\":{\"value\":\"#5aa7cd\"},\"top\":{\"field\":\"TRESPASS\"},\"width\":{\"value\":0.7},\"x\":{\"field\":\"Hour\"}},\"id\":\"1045\",\"type\":\"VBar\"},{\"attributes\":{\"fill_alpha\":{\"value\":0.1},\"fill_color\":{\"value\":\"#5aa7cd\"},\"line_alpha\":{\"value\":0.1},\"line_color\":{\"value\":\"#5aa7cd\"},\"top\":{\"field\":\"TRESPASS\"},\"width\":{\"value\":0.7},\"x\":{\"field\":\"Hour\"}},\"id\":\"1044\",\"type\":\"VBar\"},{\"attributes\":{\"data_source\":{\"id\":\"1002\"},\"glyph\":{\"id\":\"1043\"},\"hover_glyph\":null,\"muted\":true,\"muted_glyph\":{\"id\":\"1045\"},\"nonselection_glyph\":{\"id\":\"1044\"},\"view\":{\"id\":\"1047\"}},\"id\":\"1046\",\"type\":\"GlyphRenderer\"},{\"attributes\":{\"fill_alpha\":{\"value\":0.1},\"fill_color\":{\"value\":\"#8dc6d0\"},\"line_alpha\":{\"value\":0.1},\"line_color\":{\"value\":\"#8dc6d0\"},\"top\":{\"field\":\"DISORDERLY CONDUCT\"},\"width\":{\"value\":0.7},\"x\":{\"field\":\"Hour\"}},\"id\":\"1038\",\"type\":\"VBar\"},{\"attributes\":{\"fill_alpha\":{\"value\":0.005},\"fill_color\":{\"value\":\"#3885d0\"},\"line_alpha\":{\"value\":0.005},\"line_color\":{\"value\":\"#3885d0\"},\"top\":{\"field\":\"ASSAULT\"},\"width\":{\"value\":0.7},\"x\":{\"field\":\"Hour\"}},\"id\":\"1051\",\"type\":\"VBar\"},{\"attributes\":{\"source\":{\"id\":\"1002\"}},\"id\":\"1089\",\"type\":\"CDSView\"},{\"attributes\":{\"fill_alpha\":{\"value\":1.5},\"fill_color\":{\"value\":\"#d34936\"},\"line_color\":{\"value\":\"#d34936\"},\"top\":{\"field\":\"DRUG/NARCOTIC\"},\"width\":{\"value\":0.7},\"x\":{\"field\":\"Hour\"}},\"id\":\"1103\",\"type\":\"VBar\"},{\"attributes\":{},\"id\":\"1141\",\"type\":\"CategoricalTickFormatter\"},{\"attributes\":{\"source\":{\"id\":\"1002\"}},\"id\":\"1059\",\"type\":\"CDSView\"},{\"attributes\":{},\"id\":\"1143\",\"type\":\"Selection\"},{\"attributes\":{\"source\":{\"id\":\"1002\"}},\"id\":\"1041\",\"type\":\"CDSView\"},{\"attributes\":{\"source\":{\"id\":\"1002\"}},\"id\":\"1047\",\"type\":\"CDSView\"},{\"attributes\":{\"label\":{\"value\":\"ASSAULT\"},\"renderers\":[{\"id\":\"1052\"}]},\"id\":\"1123\",\"type\":\"LegendItem\"},{\"attributes\":{},\"id\":\"1144\",\"type\":\"UnionRenderers\"},{\"attributes\":{\"fill_alpha\":{\"value\":1.5},\"fill_color\":{\"value\":\"#3885d0\"},\"line_color\":{\"value\":\"#3885d0\"},\"top\":{\"field\":\"ASSAULT\"},\"width\":{\"value\":0.7},\"x\":{\"field\":\"Hour\"}},\"id\":\"1049\",\"type\":\"VBar\"},{\"attributes\":{\"fill_alpha\":{\"value\":0.1},\"fill_color\":{\"value\":\"#3885d0\"},\"line_alpha\":{\"value\":0.1},\"line_color\":{\"value\":\"#3885d0\"},\"top\":{\"field\":\"ASSAULT\"},\"width\":{\"value\":0.7},\"x\":{\"field\":\"Hour\"}},\"id\":\"1050\",\"type\":\"VBar\"},{\"attributes\":{\"label\":{\"value\":\"TRESPASS\"},\"renderers\":[{\"id\":\"1046\"}]},\"id\":\"1122\",\"type\":\"LegendItem\"},{\"attributes\":{\"data\":{\"ASSAULT\":{\"__ndarray__\":\"ePIBiALkrD/TgDDGXaCoPyZKwO+iYKY/Y6fhOqD6lz+KhiM5hdSNP6B7yk61x4k/HgvGxrk6kD9X9fA+OTiXP/L5AXP9KaE/Z6MQRQZkoj8CIn2NnX+kP9tpsbcU0KU/q5IRpWMjqz8lJt4SAi2nP8dXeAHfqqc/xevRavwPqj++9y9HEEiqPzShPhkZgqs/KHiGVJqMqj/2lgK6kueqPwP2DcqCqqo/OgyoBR19qz8WSbv9XjWqPyNV4SHY+Kg/\",\"dtype\":\"float64\",\"order\":\"little\",\"shape\":[24]},\"BURGLARY\":{\"__ndarray__\":\"GKeW/Sa0pD+JOtl2CZ6cP6YUYkUQOaA/JkvSE4EkoT9OvOPtPpueP9i0x58O3Zo/7Ihl93Tplz+ETNJGp1ygP3dkH50LtKg/8ySaFJftpj9Yws5k3ymlP1O5uarbTqQ/CXA7hK4aqj+LfDSIs/igP+qljwOuYKM/W6SWl9pDpj/eUPy8MOGpP/xS4NMLrLA/f9fqsI0ZsT/1B3AIXnarP4MJaXQxk6g/wWkmMPevpz9YVvyIycGmP/beBv+916Q/\",\"dtype\":\"float64\",\"order\":\"little\",\"shape\":[24]},\"DISORDERLY CONDUCT\":{\"__ndarray__\":\"TnmwXnd0qj9zkUdV/najP1ujcoysj6A/Y/7N8Ue2kj+t64mzvfiOP+sUM9oWb64//sO7vNp8vj+gUeJnlPi5PxImnOgqMrM/Xgwqwi01qz/gc12mei+lP4pc37bP0aI/49wU3PvUnz/3PvUHTIqkPyk+3ABw5Z0/mMwbswUGoD+7W8av8yycPwG9jdRnPZo/qF+VFrzGoD8YiCU2OZiZP4t/HB5QXpY/dLSEvH4Dlz96yWVTGRGiPxVCq2c4f6I/\",\"dtype\":\"float64\",\"order\":\"little\",\"shape\":[24]},\"DRIVING UNDER THE INFLUENCE\":{\"__ndarray__\":\"zZ7k+1jNvj9XRwkRMKy8P1SZsA2CU7k/AcPK6WVWqD/6ZhnjCaWRP3RsTdHgHoc/jhlIAuuNiT/6ZhnjCaWBP24QnMqEbYA/qMZCM/X8iz9bv1Kg1q90P0ESWG/MQII/oWqRLJlLhT8Bw8rpZVaIP6jGQjP1/Is/FBQUFBQUlD/xH9rCZfGfP29nSMzbGaI//L3F5GBRoz//ax7oDqqmP01zDnst960/tLvaVkcJsT8j7ROvG863P8xHOPoBIb0/\",\"dtype\":\"float64\",\"order\":\"little\",\"shape\":[24]},\"DRUG/NARCOTIC\":{\"__ndarray__\":\"faElFCXBoT8oDIOp6iyVP45WW9V8K5E/aIVDPTtgiT9p4FmuSdaCP6I3M5sAOHU/psimbs0ghj+/tRTZ1K2ZPyt96hwP9KA/IORQMA+boz9GcKNZWEGkP/+J690zV6c/3Sk7uRZTqz8IVwfmAHOvP2SZufhfAa8/kmr0kWr0sT9dP72p3zS0P5gRuWdNLrU/u/yRjfVasj+xJjZKZyWvP+Caoiw7Gqc/eBptnuqooz8LM4v6B0GnP0RqWIcWgaQ/\",\"dtype\":\"float64\",\"order\":\"little\",\"shape\":[24]},\"DRUNKENNESS\":{\"__ndarray__\":\"LbT9tG2qtD9PszZQPLKzP4o4jOQpA7I/PPD8m+eNmz8K5MOpqfuMPzYtGlcdaXQ/b802/hrHgj82LRpXHWmUP6HZb/BYWZE/BCHhZN/WlT/gPG/cINyWP8W94XgXVKA/5v9RIesAnj/Y14q3a2meP6w3xX/4CqE/MmOofD2DpD/n0FKR4KemP7H6p8TCL6g/NFwZ5yfCqz94WosdxdGpP8Ib4JgsBq8/zFHFLdcfsD9WRxoF/H2zP1ZHGgX8fbM/\",\"dtype\":\"float64\",\"order\":\"little\",\"shape\":[24]},\"Hour\":[\"Midnight - 1am\",\"1am - 2am\",\"2am - 3am\",\"3am - 4am\",\"4am - 5am\",\"5am - 6am\",\"6am - 7am\",\"7am - 8am\",\"8am - 9am\",\"9am - 10am\",\"10am - 11am\",\"11am - Noon\",\"Noon - 1pm\",\"1pm - 2pm\",\"2pm - 3pm\",\"3pm - 4pm\",\"4pm - 5pm\",\"5pm - 6pm\",\"6pm - 7pm\",\"7pm - 8pm\",\"8pm - 9pm\",\"9pm - 10pm\",\"10pm - 11pm\",\"11pm - Midnight\"],\"LARCENY/THEFT\":{\"__ndarray__\":\"bZnR5Tc0pD//6wQc9eGZP6zNFUM5pY8/pT89/jljhD9seHHYId56P4f/pv33Lns/+jQCUiGIhD8iqiPK1M6OP4rPct+3mJo/fmF+IZdjoD8wI6vB/BmlP7PmmgIKu6c/gLet/jnGrD+Nt0f6EM+pP1FZKg9vgao/ELMCT4hMrD8JAxv0pu+tP0LfyvXLI7E/MMdJbWlLtT80D1RCrjK0P+oBMYeLyLE/RtHOBh32rD8WqycBQwyrP15pJXgukqc/\",\"dtype\":\"float64\",\"order\":\"little\",\"shape\":[24]},\"PROSTITUTION\":{\"__ndarray__\":\"x5kGwbKiwD8M9Hiuap64Pzgfg/MxOK8/uxK1K1G7oj/7E7A/AfuTP9Zd9gGvsYQ/juyWNkoggT+ypzzEXGh1P9Zd9gGvsXQ/aDvJSLjVZj9DhQ8LZox3P/oYnI/B+Yg/5AAhxX0toz8wrx48feaMPx/PVc0TQ5g/uhehexG6lz+VYec9v3CYPzkal6NxOZo/TfCHclrfpD8i5kKrwNizPyo14uRHl7A/2ZqUrUnZqj+8M3qpfk64P+5rmSxygMA/\",\"dtype\":\"float64\",\"order\":\"little\",\"shape\":[24]},\"ROBBERY\":{\"__ndarray__\":\"iHa2eRpVrD+1pL332LyuP5ZaumWY5a4/gE3mpskioz/GzUfscA2YP/Y8u4/j15M/9IFkB9qIkj8pZ4W7X/GQP6vAlpx+O5Q/0foOM0uslj+alwyo5uqaP7yYTN/Ks54/NZAyH9Qyoj980x6zUCejP9jyt/2iAKQ/07l/nrpYpT+x8Zo1myioP7VrYikUJKg/HLSo19o+qj8zS6wWunKrP7WkvffYvK4/o9AhmPKhsT8m7b3H5vWwP8BfzqEpKrA/\",\"dtype\":\"float64\",\"order\":\"little\",\"shape\":[24]},\"STOLEN PROPERTY\":{\"__ndarray__\":\"9anfyZnEpj966bbuRC6hP5hCDznKK54/EaKV4WwGmD/EKZzYd4iUP3rptu5ELpE/g5HzS4uZkT8guvp8N7mYP3xKWSH36Zw/ZGEpFfYzoD+W4WwGGHCiP+nJjk2RNaY/S8oVMNWtqj9tMvSFLDesP41+SMyirq0/hw4gjh5nrT/AGhbNpfyvP2eLeKzHTrA/ck8/Ge/LsD9nwstHqO+rPy621QghWqk/FfYzEBA8qD8EwkRlZHenP8INEsmWdqQ/\",\"dtype\":\"float64\",\"order\":\"little\",\"shape\":[24]},\"TRESPASS\":{\"__ndarray__\":\"57mkxcwSnT9f8kxdZ/eUPwwANnpKL5o/bYs7lBnOlT/AfVJ3NpaQP3KVlTemhaM/U14LeHv8sj8QuE/qzsayP+offgJJirA/57mkxcwSrT+Fs75e8cOpP3ca0Cc/7ag/wiHT3UbWqj8oCXPOqkypP+Y+xHjAYqU/NnnB61iTpz9yvjVRqhWmP/TXsq9yOaY/NVAh0lQDpT+8c/jTqd6iPyzBjD4v5KE/yuNG8VcloT9cY9MG5++eP6EOPOZZAZ4/\",\"dtype\":\"float64\",\"order\":\"little\",\"shape\":[24]},\"VANDALISM\":{\"__ndarray__\":\"TqAoh2jlqz8yjehTBY2jP/pkh7kDM6I/bw/q82CHmj9dwhHW6yKSP9yhpbWaDI4/6Ja+AfF5kT+/L+LI0hyWP2eAVoDaEaA/IE512FOJnj+SHCYnJUSgPzTaRAMwcZ4/Q1uxCxhGpD+DcwoHQFagP87ItxK5AKI/Bvk7GLpfpT+jo9Rm0XSnPy6YDT/U364/wAKxYbissj+AVoDaEZCxP53Foqv30bA/+z95vejHsD8K6ZTdzbWwP4Or//Q7ea4/\",\"dtype\":\"float64\",\"order\":\"little\",\"shape\":[24]},\"VEHICLE THEFT\":{\"__ndarray__\":\"c+ggyxZpoj9YPmqBJcmYP74l0odSspI/MI4DJJuPiD+jRWBRQ6OEPyA0UtJWjoQ/51UoFKt3jz/f6NfTITGXPw7rQUzY7aA/nzHn+7D1oD9g9Q+mwhSgP2eYG9Npypw/d/yZIKkWpj8OwTDc0MWeP23FBM09P6I/VW9PwfcGpj8KrbeGPhirPxhCGxRQorE/F81W0FhrtT8CQGdGtdGyP21gYsPMdrQ/J7wQ2qCAsj8/jd9naRO0P0UlwKk5dLA/\",\"dtype\":\"float64\",\"order\":\"little\",\"shape\":[24]},\"WEAPON LAWS\":{\"__ndarray__\":\"8nZe4h38qz9XW0yf4jekP40nh97oY6E/jGHJbQdQmD+A3BijaKGQP276w+2vOIE/TQdDjJX5hz9ngH67hgiWPwkW1jDr/Jg/24melO8UoD/6tmGFKECgP4O23IOMr6E/x+GLblWYpz8GPBJQx+6nP7Elc9h4Iac/nmC/as8uqz/yk/8pLXKvP8n1kd6Xkq8/Y5y3okH9sD93a25IDO2wP3XCUR86T6s/75yaAfrtqj94ubZHbdOvP72NglsIWqs/\",\"dtype\":\"float64\",\"order\":\"little\",\"shape\":[24]}},\"selected\":{\"id\":\"1143\"},\"selection_policy\":{\"id\":\"1144\"}},\"id\":\"1002\",\"type\":\"ColumnDataSource\"},{\"attributes\":{\"fill_alpha\":{\"value\":0.005},\"fill_color\":{\"value\":\"#302e4a\"},\"line_alpha\":{\"value\":0.005},\"line_color\":{\"value\":\"#302e4a\"},\"top\":{\"field\":\"WEAPON LAWS\"},\"width\":{\"value\":0.7},\"x\":{\"field\":\"Hour\"}},\"id\":\"1069\",\"type\":\"VBar\"},{\"attributes\":{\"label\":{\"value\":\"VANDALISM\"},\"renderers\":[{\"id\":\"1118\"}]},\"id\":\"1134\",\"type\":\"LegendItem\"},{\"attributes\":{\"data_source\":{\"id\":\"1002\"},\"glyph\":{\"id\":\"1049\"},\"hover_glyph\":null,\"muted\":true,\"muted_glyph\":{\"id\":\"1051\"},\"nonselection_glyph\":{\"id\":\"1050\"},\"view\":{\"id\":\"1053\"}},\"id\":\"1052\",\"type\":\"GlyphRenderer\"},{\"attributes\":{\"source\":{\"id\":\"1002\"}},\"id\":\"1101\",\"type\":\"CDSView\"},{\"attributes\":{\"source\":{\"id\":\"1002\"}},\"id\":\"1053\",\"type\":\"CDSView\"},{\"attributes\":{\"fill_alpha\":{\"value\":0.005},\"fill_color\":{\"value\":\"#465ebe\"},\"line_alpha\":{\"value\":0.005},\"line_color\":{\"value\":\"#465ebe\"},\"top\":{\"field\":\"DRUNKENNESS\"},\"width\":{\"value\":0.7},\"x\":{\"field\":\"Hour\"}},\"id\":\"1057\",\"type\":\"VBar\"},{\"attributes\":{\"label\":{\"value\":\"DISORDERLY CONDUCT\"},\"renderers\":[{\"id\":\"1040\"}]},\"id\":\"1121\",\"type\":\"LegendItem\"},{\"attributes\":{\"fill_alpha\":{\"value\":1.5},\"fill_color\":{\"value\":\"#465ebe\"},\"line_color\":{\"value\":\"#465ebe\"},\"top\":{\"field\":\"DRUNKENNESS\"},\"width\":{\"value\":0.7},\"x\":{\"field\":\"Hour\"}},\"id\":\"1055\",\"type\":\"VBar\"},{\"attributes\":{\"fill_alpha\":{\"value\":0.1},\"fill_color\":{\"value\":\"#465ebe\"},\"line_alpha\":{\"value\":0.1},\"line_color\":{\"value\":\"#465ebe\"},\"top\":{\"field\":\"DRUNKENNESS\"},\"width\":{\"value\":0.7},\"x\":{\"field\":\"Hour\"}},\"id\":\"1056\",\"type\":\"VBar\"},{\"attributes\":{\"data_source\":{\"id\":\"1002\"},\"glyph\":{\"id\":\"1055\"},\"hover_glyph\":null,\"muted\":true,\"muted_glyph\":{\"id\":\"1057\"},\"nonselection_glyph\":{\"id\":\"1056\"},\"view\":{\"id\":\"1059\"}},\"id\":\"1058\",\"type\":\"GlyphRenderer\"},{\"attributes\":{\"fill_alpha\":{\"value\":0.005},\"fill_color\":{\"value\":\"#444282\"},\"line_alpha\":{\"value\":0.005},\"line_color\":{\"value\":\"#444282\"},\"top\":{\"field\":\"PROSTITUTION\"},\"width\":{\"value\":0.7},\"x\":{\"field\":\"Hour\"}},\"id\":\"1063\",\"type\":\"VBar\"},{\"attributes\":{\"fill_alpha\":{\"value\":0.005},\"fill_color\":{\"value\":\"#d34936\"},\"line_alpha\":{\"value\":0.005},\"line_color\":{\"value\":\"#d34936\"},\"top\":{\"field\":\"DRUG/NARCOTIC\"},\"width\":{\"value\":0.7},\"x\":{\"field\":\"Hour\"}},\"id\":\"1105\",\"type\":\"VBar\"},{\"attributes\":{\"data_source\":{\"id\":\"1002\"},\"glyph\":{\"id\":\"1097\"},\"hover_glyph\":null,\"muted\":true,\"muted_glyph\":{\"id\":\"1099\"},\"nonselection_glyph\":{\"id\":\"1098\"},\"view\":{\"id\":\"1101\"}},\"id\":\"1100\",\"type\":\"GlyphRenderer\"},{\"attributes\":{\"fill_alpha\":{\"value\":1.5},\"fill_color\":{\"value\":\"#444282\"},\"line_color\":{\"value\":\"#444282\"},\"top\":{\"field\":\"PROSTITUTION\"},\"width\":{\"value\":0.7},\"x\":{\"field\":\"Hour\"}},\"id\":\"1061\",\"type\":\"VBar\"},{\"attributes\":{\"fill_alpha\":{\"value\":0.1},\"fill_color\":{\"value\":\"#444282\"},\"line_alpha\":{\"value\":0.1},\"line_color\":{\"value\":\"#444282\"},\"top\":{\"field\":\"PROSTITUTION\"},\"width\":{\"value\":0.7},\"x\":{\"field\":\"Hour\"}},\"id\":\"1062\",\"type\":\"VBar\"},{\"attributes\":{\"data_source\":{\"id\":\"1002\"},\"glyph\":{\"id\":\"1061\"},\"hover_glyph\":null,\"muted\":true,\"muted_glyph\":{\"id\":\"1063\"},\"nonselection_glyph\":{\"id\":\"1062\"},\"view\":{\"id\":\"1065\"}},\"id\":\"1064\",\"type\":\"GlyphRenderer\"},{\"attributes\":{\"fill_alpha\":{\"value\":0.005},\"fill_color\":{\"value\":\"#8dc6d0\"},\"line_alpha\":{\"value\":0.005},\"line_color\":{\"value\":\"#8dc6d0\"},\"top\":{\"field\":\"DISORDERLY CONDUCT\"},\"width\":{\"value\":0.7},\"x\":{\"field\":\"Hour\"}},\"id\":\"1039\",\"type\":\"VBar\"},{\"attributes\":{\"fill_alpha\":{\"value\":0.1},\"fill_color\":{\"value\":\"#ab3043\"},\"line_alpha\":{\"value\":0.1},\"line_color\":{\"value\":\"#ab3043\"},\"top\":{\"field\":\"VEHICLE THEFT\"},\"width\":{\"value\":0.7},\"x\":{\"field\":\"Hour\"}},\"id\":\"1098\",\"type\":\"VBar\"},{\"attributes\":{\"source\":{\"id\":\"1002\"}},\"id\":\"1065\",\"type\":\"CDSView\"},{\"attributes\":{\"label\":{\"value\":\"DRUG/NARCOTIC\"},\"renderers\":[{\"id\":\"1106\"}]},\"id\":\"1132\",\"type\":\"LegendItem\"},{\"attributes\":{\"fill_alpha\":{\"value\":1.5},\"fill_color\":{\"value\":\"#ab3043\"},\"line_color\":{\"value\":\"#ab3043\"},\"top\":{\"field\":\"VEHICLE THEFT\"},\"width\":{\"value\":0.7},\"x\":{\"field\":\"Hour\"}},\"id\":\"1097\",\"type\":\"VBar\"},{\"attributes\":{\"fill_alpha\":{\"value\":1.5},\"fill_color\":{\"value\":\"#302e4a\"},\"line_color\":{\"value\":\"#302e4a\"},\"top\":{\"field\":\"WEAPON LAWS\"},\"width\":{\"value\":0.7},\"x\":{\"field\":\"Hour\"}},\"id\":\"1067\",\"type\":\"VBar\"},{\"attributes\":{\"fill_alpha\":{\"value\":0.1},\"fill_color\":{\"value\":\"#302e4a\"},\"line_alpha\":{\"value\":0.1},\"line_color\":{\"value\":\"#302e4a\"},\"top\":{\"field\":\"WEAPON LAWS\"},\"width\":{\"value\":0.7},\"x\":{\"field\":\"Hour\"}},\"id\":\"1068\",\"type\":\"VBar\"},{\"attributes\":{\"data_source\":{\"id\":\"1002\"},\"glyph\":{\"id\":\"1067\"},\"hover_glyph\":null,\"muted\":true,\"muted_glyph\":{\"id\":\"1069\"},\"nonselection_glyph\":{\"id\":\"1068\"},\"view\":{\"id\":\"1071\"}},\"id\":\"1070\",\"type\":\"GlyphRenderer\"},{\"attributes\":{\"fill_alpha\":{\"value\":0.005},\"fill_color\":{\"value\":\"#212026\"},\"line_alpha\":{\"value\":0.005},\"line_color\":{\"value\":\"#212026\"},\"top\":{\"field\":\"STOLEN PROPERTY\"},\"width\":{\"value\":0.7},\"x\":{\"field\":\"Hour\"}},\"id\":\"1075\",\"type\":\"VBar\"},{\"attributes\":{\"fill_alpha\":{\"value\":0.005},\"fill_color\":{\"value\":\"#4a252e\"},\"line_alpha\":{\"value\":0.005},\"line_color\":{\"value\":\"#4a252e\"},\"top\":{\"field\":\"BURGLARY\"},\"width\":{\"value\":0.7},\"x\":{\"field\":\"Hour\"}},\"id\":\"1087\",\"type\":\"VBar\"},{\"attributes\":{\"fill_alpha\":{\"value\":1.5},\"fill_color\":{\"value\":\"#8dc6d0\"},\"line_color\":{\"value\":\"#8dc6d0\"},\"top\":{\"field\":\"DISORDERLY CONDUCT\"},\"width\":{\"value\":0.7},\"x\":{\"field\":\"Hour\"}},\"id\":\"1037\",\"type\":\"VBar\"},{\"attributes\":{\"fill_alpha\":{\"value\":1.5},\"fill_color\":{\"value\":\"#212026\"},\"line_color\":{\"value\":\"#212026\"},\"top\":{\"field\":\"STOLEN PROPERTY\"},\"width\":{\"value\":0.7},\"x\":{\"field\":\"Hour\"}},\"id\":\"1073\",\"type\":\"VBar\"},{\"attributes\":{\"fill_alpha\":{\"value\":1.5},\"fill_color\":{\"value\":\"#5aa7cd\"},\"line_color\":{\"value\":\"#5aa7cd\"},\"top\":{\"field\":\"TRESPASS\"},\"width\":{\"value\":0.7},\"x\":{\"field\":\"Hour\"}},\"id\":\"1043\",\"type\":\"VBar\"},{\"attributes\":{\"source\":{\"id\":\"1002\"}},\"id\":\"1071\",\"type\":\"CDSView\"},{\"attributes\":{\"fill_alpha\":{\"value\":1.5},\"fill_color\":{\"value\":\"#782c3f\"},\"line_color\":{\"value\":\"#782c3f\"},\"top\":{\"field\":\"LARCENY/THEFT\"},\"width\":{\"value\":0.7},\"x\":{\"field\":\"Hour\"}},\"id\":\"1091\",\"type\":\"VBar\"},{\"attributes\":{\"data_source\":{\"id\":\"1002\"},\"glyph\":{\"id\":\"1073\"},\"hover_glyph\":null,\"muted\":true,\"muted_glyph\":{\"id\":\"1075\"},\"nonselection_glyph\":{\"id\":\"1074\"},\"view\":{\"id\":\"1077\"}},\"id\":\"1076\",\"type\":\"GlyphRenderer\"},{\"attributes\":{\"overlay\":{\"id\":\"1028\"}},\"id\":\"1024\",\"type\":\"BoxZoomTool\"},{\"attributes\":{\"source\":{\"id\":\"1002\"}},\"id\":\"1095\",\"type\":\"CDSView\"},{\"attributes\":{\"fill_alpha\":{\"value\":0.1},\"fill_color\":{\"value\":\"#212026\"},\"line_alpha\":{\"value\":0.1},\"line_color\":{\"value\":\"#212026\"},\"top\":{\"field\":\"STOLEN PROPERTY\"},\"width\":{\"value\":0.7},\"x\":{\"field\":\"Hour\"}},\"id\":\"1074\",\"type\":\"VBar\"},{\"attributes\":{\"fill_alpha\":{\"value\":0.005},\"fill_color\":{\"value\":\"#291e20\"},\"line_alpha\":{\"value\":0.005},\"line_color\":{\"value\":\"#291e20\"},\"top\":{\"field\":\"DRIVING UNDER THE INFLUENCE\"},\"width\":{\"value\":0.7},\"x\":{\"field\":\"Hour\"}},\"id\":\"1081\",\"type\":\"VBar\"},{\"attributes\":{\"fill_alpha\":{\"value\":1.5},\"fill_color\":{\"value\":\"#291e20\"},\"line_color\":{\"value\":\"#291e20\"},\"top\":{\"field\":\"DRIVING UNDER THE INFLUENCE\"},\"width\":{\"value\":0.7},\"x\":{\"field\":\"Hour\"}},\"id\":\"1079\",\"type\":\"VBar\"},{\"attributes\":{\"source\":{\"id\":\"1002\"}},\"id\":\"1077\",\"type\":\"CDSView\"},{\"attributes\":{\"factors\":[\"Midnight - 1am\",\"1am - 2am\",\"2am - 3am\",\"3am - 4am\",\"4am - 5am\",\"5am - 6am\",\"6am - 7am\",\"7am - 8am\",\"8am - 9am\",\"9am - 10am\",\"10am - 11am\",\"11am - Noon\",\"Noon - 1pm\",\"1pm - 2pm\",\"2pm - 3pm\",\"3pm - 4pm\",\"4pm - 5pm\",\"5pm - 6pm\",\"6pm - 7pm\",\"7pm - 8pm\",\"8pm - 9pm\",\"9pm - 10pm\",\"10pm - 11pm\",\"11pm - Midnight\"]},\"id\":\"1004\",\"type\":\"FactorRange\"},{\"attributes\":{\"data_source\":{\"id\":\"1002\"},\"glyph\":{\"id\":\"1079\"},\"hover_glyph\":null,\"muted\":true,\"muted_glyph\":{\"id\":\"1081\"},\"nonselection_glyph\":{\"id\":\"1080\"},\"view\":{\"id\":\"1083\"}},\"id\":\"1082\",\"type\":\"GlyphRenderer\"},{\"attributes\":{\"fill_alpha\":{\"value\":1.5},\"fill_color\":{\"value\":\"#4a252e\"},\"line_color\":{\"value\":\"#4a252e\"},\"top\":{\"field\":\"BURGLARY\"},\"width\":{\"value\":0.7},\"x\":{\"field\":\"Hour\"}},\"id\":\"1085\",\"type\":\"VBar\"},{\"attributes\":{\"fill_alpha\":{\"value\":0.005},\"fill_color\":{\"value\":\"#ab3043\"},\"line_alpha\":{\"value\":0.005},\"line_color\":{\"value\":\"#ab3043\"},\"top\":{\"field\":\"VEHICLE THEFT\"},\"width\":{\"value\":0.7},\"x\":{\"field\":\"Hour\"}},\"id\":\"1099\",\"type\":\"VBar\"},{\"attributes\":{\"fill_alpha\":{\"value\":0.1},\"fill_color\":{\"value\":\"#291e20\"},\"line_alpha\":{\"value\":0.1},\"line_color\":{\"value\":\"#291e20\"},\"top\":{\"field\":\"DRIVING UNDER THE INFLUENCE\"},\"width\":{\"value\":0.7},\"x\":{\"field\":\"Hour\"}},\"id\":\"1080\",\"type\":\"VBar\"},{\"attributes\":{\"text\":\"Crimes per Hour\"},\"id\":\"1006\",\"type\":\"Title\"},{\"attributes\":{\"source\":{\"id\":\"1002\"}},\"id\":\"1083\",\"type\":\"CDSView\"},{\"attributes\":{},\"id\":\"1013\",\"type\":\"LinearScale\"},{\"attributes\":{},\"id\":\"1011\",\"type\":\"CategoricalScale\"},{\"attributes\":{\"axis_label\":\"Hour of the Day\",\"formatter\":{\"id\":\"1141\"},\"major_label_orientation\":1,\"major_label_policy\":{\"id\":\"1139\"},\"ticker\":{\"id\":\"1016\"}},\"id\":\"1015\",\"type\":\"CategoricalAxis\"},{\"attributes\":{\"fill_alpha\":{\"value\":0.1},\"fill_color\":{\"value\":\"#782c3f\"},\"line_alpha\":{\"value\":0.1},\"line_color\":{\"value\":\"#782c3f\"},\"top\":{\"field\":\"LARCENY/THEFT\"},\"width\":{\"value\":0.7},\"x\":{\"field\":\"Hour\"}},\"id\":\"1092\",\"type\":\"VBar\"},{\"attributes\":{\"start\":0},\"id\":\"1009\",\"type\":\"DataRange1d\"},{\"attributes\":{\"fill_alpha\":{\"value\":0.005},\"fill_color\":{\"value\":\"#782c3f\"},\"line_alpha\":{\"value\":0.005},\"line_color\":{\"value\":\"#782c3f\"},\"top\":{\"field\":\"LARCENY/THEFT\"},\"width\":{\"value\":0.7},\"x\":{\"field\":\"Hour\"}},\"id\":\"1093\",\"type\":\"VBar\"},{\"attributes\":{\"data_source\":{\"id\":\"1002\"},\"glyph\":{\"id\":\"1091\"},\"hover_glyph\":null,\"muted\":true,\"muted_glyph\":{\"id\":\"1093\"},\"nonselection_glyph\":{\"id\":\"1092\"},\"view\":{\"id\":\"1095\"}},\"id\":\"1094\",\"type\":\"GlyphRenderer\"},{\"attributes\":{},\"id\":\"1016\",\"type\":\"CategoricalTicker\"},{\"attributes\":{\"axis\":{\"id\":\"1015\"},\"ticker\":null},\"id\":\"1017\",\"type\":\"Grid\"},{\"attributes\":{\"data_source\":{\"id\":\"1002\"},\"glyph\":{\"id\":\"1037\"},\"hover_glyph\":null,\"muted\":true,\"muted_glyph\":{\"id\":\"1039\"},\"nonselection_glyph\":{\"id\":\"1038\"},\"view\":{\"id\":\"1041\"}},\"id\":\"1040\",\"type\":\"GlyphRenderer\"},{\"attributes\":{\"source\":{\"id\":\"1002\"}},\"id\":\"1107\",\"type\":\"CDSView\"},{\"attributes\":{\"fill_alpha\":{\"value\":1.5},\"fill_color\":{\"value\":\"#eb753a\"},\"line_color\":{\"value\":\"#eb753a\"},\"top\":{\"field\":\"ROBBERY\"},\"width\":{\"value\":0.7},\"x\":{\"field\":\"Hour\"}},\"id\":\"1109\",\"type\":\"VBar\"},{\"attributes\":{\"axis_label\":\"Relative Frequency\",\"formatter\":{\"id\":\"1138\"},\"major_label_policy\":{\"id\":\"1136\"},\"ticker\":{\"id\":\"1019\"}},\"id\":\"1018\",\"type\":\"LinearAxis\"},{\"attributes\":{\"source\":{\"id\":\"1002\"}},\"id\":\"1113\",\"type\":\"CDSView\"},{\"attributes\":{\"data_source\":{\"id\":\"1002\"},\"glyph\":{\"id\":\"1109\"},\"hover_glyph\":null,\"muted\":true,\"muted_glyph\":{\"id\":\"1111\"},\"nonselection_glyph\":{\"id\":\"1110\"},\"view\":{\"id\":\"1113\"}},\"id\":\"1112\",\"type\":\"GlyphRenderer\"},{\"attributes\":{},\"id\":\"1027\",\"type\":\"HelpTool\"},{\"attributes\":{\"fill_alpha\":{\"value\":0.1},\"fill_color\":{\"value\":\"#f6a56d\"},\"line_alpha\":{\"value\":0.1},\"line_color\":{\"value\":\"#f6a56d\"},\"top\":{\"field\":\"VANDALISM\"},\"width\":{\"value\":0.7},\"x\":{\"field\":\"Hour\"}},\"id\":\"1116\",\"type\":\"VBar\"},{\"attributes\":{\"fill_alpha\":{\"value\":1.5},\"fill_color\":{\"value\":\"#f6a56d\"},\"line_color\":{\"value\":\"#f6a56d\"},\"top\":{\"field\":\"VANDALISM\"},\"width\":{\"value\":0.7},\"x\":{\"field\":\"Hour\"}},\"id\":\"1115\",\"type\":\"VBar\"},{\"attributes\":{\"fill_alpha\":{\"value\":0.005},\"fill_color\":{\"value\":\"#f6a56d\"},\"line_alpha\":{\"value\":0.005},\"line_color\":{\"value\":\"#f6a56d\"},\"top\":{\"field\":\"VANDALISM\"},\"width\":{\"value\":0.7},\"x\":{\"field\":\"Hour\"}},\"id\":\"1117\",\"type\":\"VBar\"},{\"attributes\":{\"fill_alpha\":{\"value\":0.1},\"fill_color\":{\"value\":\"#4a252e\"},\"line_alpha\":{\"value\":0.1},\"line_color\":{\"value\":\"#4a252e\"},\"top\":{\"field\":\"BURGLARY\"},\"width\":{\"value\":0.7},\"x\":{\"field\":\"Hour\"}},\"id\":\"1086\",\"type\":\"VBar\"},{\"attributes\":{},\"id\":\"1019\",\"type\":\"BasicTicker\"},{\"attributes\":{\"fill_alpha\":{\"value\":0.005},\"fill_color\":{\"value\":\"#eb753a\"},\"line_alpha\":{\"value\":0.005},\"line_color\":{\"value\":\"#eb753a\"},\"top\":{\"field\":\"ROBBERY\"},\"width\":{\"value\":0.7},\"x\":{\"field\":\"Hour\"}},\"id\":\"1111\",\"type\":\"VBar\"},{\"attributes\":{\"data_source\":{\"id\":\"1002\"},\"glyph\":{\"id\":\"1115\"},\"hover_glyph\":null,\"muted\":true,\"muted_glyph\":{\"id\":\"1117\"},\"nonselection_glyph\":{\"id\":\"1116\"},\"view\":{\"id\":\"1119\"}},\"id\":\"1118\",\"type\":\"GlyphRenderer\"},{\"attributes\":{},\"id\":\"1022\",\"type\":\"PanTool\"},{\"attributes\":{\"active_multi\":null,\"tools\":[{\"id\":\"1022\"},{\"id\":\"1023\"},{\"id\":\"1024\"},{\"id\":\"1025\"},{\"id\":\"1026\"},{\"id\":\"1027\"}]},\"id\":\"1029\",\"type\":\"Toolbar\"},{\"attributes\":{},\"id\":\"1023\",\"type\":\"WheelZoomTool\"},{\"attributes\":{},\"id\":\"1026\",\"type\":\"ResetTool\"},{\"attributes\":{\"source\":{\"id\":\"1002\"}},\"id\":\"1119\",\"type\":\"CDSView\"},{\"attributes\":{},\"id\":\"1025\",\"type\":\"SaveTool\"},{\"attributes\":{\"bottom_units\":\"screen\",\"fill_alpha\":0.5,\"fill_color\":\"lightgrey\",\"left_units\":\"screen\",\"level\":\"overlay\",\"line_alpha\":1.0,\"line_color\":\"black\",\"line_dash\":[4,4],\"line_width\":2,\"right_units\":\"screen\",\"syncable\":false,\"top_units\":\"screen\"},\"id\":\"1028\",\"type\":\"BoxAnnotation\"},{\"attributes\":{\"click_policy\":\"mute\",\"items\":[{\"id\":\"1121\"},{\"id\":\"1122\"},{\"id\":\"1123\"},{\"id\":\"1124\"},{\"id\":\"1125\"},{\"id\":\"1126\"},{\"id\":\"1127\"},{\"id\":\"1128\"},{\"id\":\"1129\"},{\"id\":\"1130\"},{\"id\":\"1131\"},{\"id\":\"1132\"},{\"id\":\"1133\"},{\"id\":\"1134\"}]},\"id\":\"1120\",\"type\":\"Legend\"},{\"attributes\":{\"axis\":{\"id\":\"1018\"},\"dimension\":1,\"ticker\":null},\"id\":\"1021\",\"type\":\"Grid\"},{\"attributes\":{\"label\":{\"value\":\"PROSTITUTION\"},\"renderers\":[{\"id\":\"1064\"}]},\"id\":\"1125\",\"type\":\"LegendItem\"},{\"attributes\":{\"label\":{\"value\":\"VEHICLE THEFT\"},\"renderers\":[{\"id\":\"1100\"}]},\"id\":\"1131\",\"type\":\"LegendItem\"},{\"attributes\":{\"label\":{\"value\":\"LARCENY/THEFT\"},\"renderers\":[{\"id\":\"1094\"}]},\"id\":\"1130\",\"type\":\"LegendItem\"},{\"attributes\":{\"label\":{\"value\":\"WEAPON LAWS\"},\"renderers\":[{\"id\":\"1070\"}]},\"id\":\"1126\",\"type\":\"LegendItem\"},{\"attributes\":{\"label\":{\"value\":\"STOLEN PROPERTY\"},\"renderers\":[{\"id\":\"1076\"}]},\"id\":\"1127\",\"type\":\"LegendItem\"},{\"attributes\":{\"label\":{\"value\":\"DRUNKENNESS\"},\"renderers\":[{\"id\":\"1058\"}]},\"id\":\"1124\",\"type\":\"LegendItem\"},{\"attributes\":{\"label\":{\"value\":\"BURGLARY\"},\"renderers\":[{\"id\":\"1088\"}]},\"id\":\"1129\",\"type\":\"LegendItem\"},{\"attributes\":{},\"id\":\"1136\",\"type\":\"AllLabels\"},{\"attributes\":{},\"id\":\"1138\",\"type\":\"BasicTickFormatter\"},{\"attributes\":{\"label\":{\"value\":\"DRIVING UNDER THE INFLUENCE\"},\"renderers\":[{\"id\":\"1082\"}]},\"id\":\"1128\",\"type\":\"LegendItem\"},{\"attributes\":{\"fill_alpha\":{\"value\":0.1},\"fill_color\":{\"value\":\"#eb753a\"},\"line_alpha\":{\"value\":0.1},\"line_color\":{\"value\":\"#eb753a\"},\"top\":{\"field\":\"ROBBERY\"},\"width\":{\"value\":0.7},\"x\":{\"field\":\"Hour\"}},\"id\":\"1110\",\"type\":\"VBar\"},{\"attributes\":{},\"id\":\"1139\",\"type\":\"AllLabels\"}],\"root_ids\":[\"1005\"]},\"title\":\"Bokeh Application\",\"version\":\"2.3.0\"}};\n",
       "  var render_items = [{\"docid\":\"e0395030-bf59-451b-b300-0b760d6211c9\",\"root_ids\":[\"1005\"],\"roots\":{\"1005\":\"4f4b0505-82bd-48d3-89c1-4f4aec25021b\"}}];\n",
       "  root.Bokeh.embed.embed_items_notebook(docs_json, render_items);\n",
       "\n",
       "  }\n",
       "  if (root.Bokeh !== undefined) {\n",
       "    embed_document(root);\n",
       "  } else {\n",
       "    var attempts = 0;\n",
       "    var timer = setInterval(function(root) {\n",
       "      if (root.Bokeh !== undefined) {\n",
       "        clearInterval(timer);\n",
       "        embed_document(root);\n",
       "      } else {\n",
       "        attempts++;\n",
       "        if (attempts > 100) {\n",
       "          clearInterval(timer);\n",
       "          console.log(\"Bokeh: ERROR: Unable to run BokehJS code because BokehJS library is missing\");\n",
       "        }\n",
       "      }\n",
       "    }, 10, root)\n",
       "  }\n",
       "})(window);"
      ],
      "application/vnd.bokehjs_exec.v0+json": ""
     },
     "metadata": {
      "application/vnd.bokehjs_exec.v0+json": {
       "id": "1005"
      }
     },
     "output_type": "display_data"
    }
   ],
   "source": [
    "legend = Legend(items=items)\n",
    "p.add_layout(legend, 'left')    \n",
    "p.legend.click_policy = 'mute'\n",
    "\n",
    "show(p)"
   ]
  }
 ],
 "metadata": {
  "kernelspec": {
   "display_name": "Python 3",
   "language": "python",
   "name": "python3"
  },
  "language_info": {
   "codemirror_mode": {
    "name": "ipython",
    "version": 3
   },
   "file_extension": ".py",
   "mimetype": "text/x-python",
   "name": "python",
   "nbconvert_exporter": "python",
   "pygments_lexer": "ipython3",
   "version": "3.8.5"
  }
 },
 "nbformat": 4,
 "nbformat_minor": 4
}
