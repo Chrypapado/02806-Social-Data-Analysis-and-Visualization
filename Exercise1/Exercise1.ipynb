{
 "cells": [
  {
   "cell_type": "markdown",
   "metadata": {},
   "source": [
    "### Libraries"
   ]
  },
  {
   "cell_type": "code",
   "execution_count": 2,
   "metadata": {},
   "outputs": [],
   "source": [
    "import pandas as pd\n",
    "import numpy as np\n",
    "\n",
    "import matplotlib.pyplot as plt"
   ]
  },
  {
   "cell_type": "markdown",
   "metadata": {},
   "source": [
    "### Import the Data"
   ]
  },
  {
   "cell_type": "code",
   "execution_count": 3,
   "metadata": {},
   "outputs": [],
   "source": [
    "data = pd.read_csv('Police_Department_Incident_Reports__Historical_2003_to_May_2018.csv')"
   ]
  },
  {
   "cell_type": "markdown",
   "metadata": {},
   "source": [
    "### Settings"
   ]
  },
  {
   "cell_type": "code",
   "execution_count": 4,
   "metadata": {},
   "outputs": [],
   "source": [
    "# Set ipython's max row display\n",
    "pd.set_option('display.max_row', 100)\n",
    "\n",
    "# Set iPython's max column width to 50\n",
    "pd.set_option('display.max_columns', 35)"
   ]
  },
  {
   "cell_type": "markdown",
   "metadata": {},
   "source": [
    "### Check the Data"
   ]
  },
  {
   "cell_type": "code",
   "execution_count": 5,
   "metadata": {},
   "outputs": [
    {
     "data": {
      "text/html": [
       "<div>\n",
       "<style scoped>\n",
       "    .dataframe tbody tr th:only-of-type {\n",
       "        vertical-align: middle;\n",
       "    }\n",
       "\n",
       "    .dataframe tbody tr th {\n",
       "        vertical-align: top;\n",
       "    }\n",
       "\n",
       "    .dataframe thead th {\n",
       "        text-align: right;\n",
       "    }\n",
       "</style>\n",
       "<table border=\"1\" class=\"dataframe\">\n",
       "  <thead>\n",
       "    <tr style=\"text-align: right;\">\n",
       "      <th></th>\n",
       "      <th>PdId</th>\n",
       "      <th>IncidntNum</th>\n",
       "      <th>Incident Code</th>\n",
       "      <th>Category</th>\n",
       "      <th>Descript</th>\n",
       "      <th>DayOfWeek</th>\n",
       "      <th>Date</th>\n",
       "      <th>Time</th>\n",
       "      <th>PdDistrict</th>\n",
       "      <th>Resolution</th>\n",
       "      <th>Address</th>\n",
       "      <th>X</th>\n",
       "      <th>Y</th>\n",
       "      <th>location</th>\n",
       "      <th>SF Find Neighborhoods 2 2</th>\n",
       "      <th>Current Police Districts 2 2</th>\n",
       "      <th>Current Supervisor Districts 2 2</th>\n",
       "      <th>Analysis Neighborhoods 2 2</th>\n",
       "      <th>DELETE - Fire Prevention Districts 2 2</th>\n",
       "      <th>DELETE - Police Districts 2 2</th>\n",
       "      <th>DELETE - Supervisor Districts 2 2</th>\n",
       "      <th>DELETE - Zip Codes 2 2</th>\n",
       "      <th>DELETE - Neighborhoods 2 2</th>\n",
       "      <th>DELETE - 2017 Fix It Zones 2 2</th>\n",
       "      <th>Civic Center Harm Reduction Project Boundary 2 2</th>\n",
       "      <th>Fix It Zones as of 2017-11-06  2 2</th>\n",
       "      <th>DELETE - HSOC Zones 2 2</th>\n",
       "      <th>Fix It Zones as of 2018-02-07 2 2</th>\n",
       "      <th>CBD, BID and GBD Boundaries as of 2017 2 2</th>\n",
       "      <th>Areas of Vulnerability, 2016 2 2</th>\n",
       "      <th>Central Market/Tenderloin Boundary 2 2</th>\n",
       "      <th>Central Market/Tenderloin Boundary Polygon - Updated 2 2</th>\n",
       "      <th>HSOC Zones as of 2018-06-05 2 2</th>\n",
       "      <th>OWED Public Spaces 2 2</th>\n",
       "      <th>Neighborhoods 2</th>\n",
       "    </tr>\n",
       "  </thead>\n",
       "  <tbody>\n",
       "    <tr>\n",
       "      <th>0</th>\n",
       "      <td>4018830907041</td>\n",
       "      <td>40188309</td>\n",
       "      <td>7041</td>\n",
       "      <td>VEHICLE THEFT</td>\n",
       "      <td>VEHICLE, RECOVERED, AUTO</td>\n",
       "      <td>Sunday</td>\n",
       "      <td>02/15/2004</td>\n",
       "      <td>02:00</td>\n",
       "      <td>SOUTHERN</td>\n",
       "      <td>NONE</td>\n",
       "      <td>BRANNAN ST / 1ST ST</td>\n",
       "      <td>-120.500000</td>\n",
       "      <td>90.000000</td>\n",
       "      <td>POINT (-120.50000000000001 90)</td>\n",
       "      <td>NaN</td>\n",
       "      <td>NaN</td>\n",
       "      <td>NaN</td>\n",
       "      <td>NaN</td>\n",
       "      <td>NaN</td>\n",
       "      <td>NaN</td>\n",
       "      <td>NaN</td>\n",
       "      <td>NaN</td>\n",
       "      <td>NaN</td>\n",
       "      <td>NaN</td>\n",
       "      <td>NaN</td>\n",
       "      <td>NaN</td>\n",
       "      <td>NaN</td>\n",
       "      <td>NaN</td>\n",
       "      <td>NaN</td>\n",
       "      <td>NaN</td>\n",
       "      <td>NaN</td>\n",
       "      <td>NaN</td>\n",
       "      <td>NaN</td>\n",
       "      <td>NaN</td>\n",
       "      <td>NaN</td>\n",
       "    </tr>\n",
       "    <tr>\n",
       "      <th>1</th>\n",
       "      <td>13605159706372</td>\n",
       "      <td>136051597</td>\n",
       "      <td>6372</td>\n",
       "      <td>LARCENY/THEFT</td>\n",
       "      <td>PETTY THEFT OF PROPERTY</td>\n",
       "      <td>Thursday</td>\n",
       "      <td>03/14/2013</td>\n",
       "      <td>09:21</td>\n",
       "      <td>SOUTHERN</td>\n",
       "      <td>NONE</td>\n",
       "      <td>1300 Block of STEVENSON ST</td>\n",
       "      <td>-122.421595</td>\n",
       "      <td>37.770767</td>\n",
       "      <td>POINT (-122.421594519119 37.7707674171464)</td>\n",
       "      <td>32.0</td>\n",
       "      <td>1.0</td>\n",
       "      <td>10.0</td>\n",
       "      <td>20.0</td>\n",
       "      <td>8.0</td>\n",
       "      <td>2.0</td>\n",
       "      <td>9.0</td>\n",
       "      <td>28853.0</td>\n",
       "      <td>19.0</td>\n",
       "      <td>NaN</td>\n",
       "      <td>NaN</td>\n",
       "      <td>NaN</td>\n",
       "      <td>NaN</td>\n",
       "      <td>NaN</td>\n",
       "      <td>NaN</td>\n",
       "      <td>2.0</td>\n",
       "      <td>NaN</td>\n",
       "      <td>NaN</td>\n",
       "      <td>NaN</td>\n",
       "      <td>NaN</td>\n",
       "      <td>32.0</td>\n",
       "    </tr>\n",
       "    <tr>\n",
       "      <th>2</th>\n",
       "      <td>13618826906244</td>\n",
       "      <td>136188269</td>\n",
       "      <td>6244</td>\n",
       "      <td>LARCENY/THEFT</td>\n",
       "      <td>GRAND THEFT FROM LOCKED AUTO</td>\n",
       "      <td>Tuesday</td>\n",
       "      <td>10/08/2013</td>\n",
       "      <td>19:30</td>\n",
       "      <td>MISSION</td>\n",
       "      <td>NONE</td>\n",
       "      <td>VALENCIA ST / DUBOCE AV</td>\n",
       "      <td>-122.422367</td>\n",
       "      <td>37.769868</td>\n",
       "      <td>POINT (-122.422367409563 37.7698682392455)</td>\n",
       "      <td>NaN</td>\n",
       "      <td>3.0</td>\n",
       "      <td>5.0</td>\n",
       "      <td>20.0</td>\n",
       "      <td>8.0</td>\n",
       "      <td>4.0</td>\n",
       "      <td>5.0</td>\n",
       "      <td>28853.0</td>\n",
       "      <td>19.0</td>\n",
       "      <td>NaN</td>\n",
       "      <td>NaN</td>\n",
       "      <td>NaN</td>\n",
       "      <td>3.0</td>\n",
       "      <td>NaN</td>\n",
       "      <td>NaN</td>\n",
       "      <td>2.0</td>\n",
       "      <td>NaN</td>\n",
       "      <td>NaN</td>\n",
       "      <td>3.0</td>\n",
       "      <td>NaN</td>\n",
       "      <td>NaN</td>\n",
       "    </tr>\n",
       "    <tr>\n",
       "      <th>3</th>\n",
       "      <td>4098938926105</td>\n",
       "      <td>40989389</td>\n",
       "      <td>26105</td>\n",
       "      <td>OTHER OFFENSES</td>\n",
       "      <td>FALSE REPORT OF BOMB</td>\n",
       "      <td>Sunday</td>\n",
       "      <td>08/29/2004</td>\n",
       "      <td>22:47</td>\n",
       "      <td>PARK</td>\n",
       "      <td>NONE</td>\n",
       "      <td>300 Block of WOODSIDE AV</td>\n",
       "      <td>-122.452717</td>\n",
       "      <td>37.745745</td>\n",
       "      <td>POINT (-122.452716700987 37.7457451434135)</td>\n",
       "      <td>49.0</td>\n",
       "      <td>7.0</td>\n",
       "      <td>8.0</td>\n",
       "      <td>38.0</td>\n",
       "      <td>1.0</td>\n",
       "      <td>5.0</td>\n",
       "      <td>4.0</td>\n",
       "      <td>59.0</td>\n",
       "      <td>38.0</td>\n",
       "      <td>NaN</td>\n",
       "      <td>NaN</td>\n",
       "      <td>NaN</td>\n",
       "      <td>NaN</td>\n",
       "      <td>NaN</td>\n",
       "      <td>NaN</td>\n",
       "      <td>1.0</td>\n",
       "      <td>NaN</td>\n",
       "      <td>NaN</td>\n",
       "      <td>NaN</td>\n",
       "      <td>NaN</td>\n",
       "      <td>49.0</td>\n",
       "    </tr>\n",
       "    <tr>\n",
       "      <th>4</th>\n",
       "      <td>5085058207021</td>\n",
       "      <td>50850582</td>\n",
       "      <td>7021</td>\n",
       "      <td>VEHICLE THEFT</td>\n",
       "      <td>STOLEN AUTOMOBILE</td>\n",
       "      <td>Friday</td>\n",
       "      <td>07/29/2005</td>\n",
       "      <td>21:00</td>\n",
       "      <td>INGLESIDE</td>\n",
       "      <td>NONE</td>\n",
       "      <td>0 Block of RAE AV</td>\n",
       "      <td>-122.448127</td>\n",
       "      <td>37.712164</td>\n",
       "      <td>POINT (-122.448127287476 37.7121636146229)</td>\n",
       "      <td>66.0</td>\n",
       "      <td>9.0</td>\n",
       "      <td>1.0</td>\n",
       "      <td>28.0</td>\n",
       "      <td>9.0</td>\n",
       "      <td>7.0</td>\n",
       "      <td>6.0</td>\n",
       "      <td>28861.0</td>\n",
       "      <td>25.0</td>\n",
       "      <td>NaN</td>\n",
       "      <td>NaN</td>\n",
       "      <td>NaN</td>\n",
       "      <td>NaN</td>\n",
       "      <td>NaN</td>\n",
       "      <td>NaN</td>\n",
       "      <td>2.0</td>\n",
       "      <td>NaN</td>\n",
       "      <td>NaN</td>\n",
       "      <td>NaN</td>\n",
       "      <td>NaN</td>\n",
       "      <td>66.0</td>\n",
       "    </tr>\n",
       "  </tbody>\n",
       "</table>\n",
       "</div>"
      ],
      "text/plain": [
       "             PdId  IncidntNum  Incident Code        Category  \\\n",
       "0   4018830907041    40188309           7041   VEHICLE THEFT   \n",
       "1  13605159706372   136051597           6372   LARCENY/THEFT   \n",
       "2  13618826906244   136188269           6244   LARCENY/THEFT   \n",
       "3   4098938926105    40989389          26105  OTHER OFFENSES   \n",
       "4   5085058207021    50850582           7021   VEHICLE THEFT   \n",
       "\n",
       "                       Descript DayOfWeek        Date   Time PdDistrict  \\\n",
       "0      VEHICLE, RECOVERED, AUTO    Sunday  02/15/2004  02:00   SOUTHERN   \n",
       "1       PETTY THEFT OF PROPERTY  Thursday  03/14/2013  09:21   SOUTHERN   \n",
       "2  GRAND THEFT FROM LOCKED AUTO   Tuesday  10/08/2013  19:30    MISSION   \n",
       "3          FALSE REPORT OF BOMB    Sunday  08/29/2004  22:47       PARK   \n",
       "4             STOLEN AUTOMOBILE    Friday  07/29/2005  21:00  INGLESIDE   \n",
       "\n",
       "  Resolution                     Address           X          Y  \\\n",
       "0       NONE         BRANNAN ST / 1ST ST -120.500000  90.000000   \n",
       "1       NONE  1300 Block of STEVENSON ST -122.421595  37.770767   \n",
       "2       NONE     VALENCIA ST / DUBOCE AV -122.422367  37.769868   \n",
       "3       NONE    300 Block of WOODSIDE AV -122.452717  37.745745   \n",
       "4       NONE           0 Block of RAE AV -122.448127  37.712164   \n",
       "\n",
       "                                     location  SF Find Neighborhoods 2 2  \\\n",
       "0              POINT (-120.50000000000001 90)                        NaN   \n",
       "1  POINT (-122.421594519119 37.7707674171464)                       32.0   \n",
       "2  POINT (-122.422367409563 37.7698682392455)                        NaN   \n",
       "3  POINT (-122.452716700987 37.7457451434135)                       49.0   \n",
       "4  POINT (-122.448127287476 37.7121636146229)                       66.0   \n",
       "\n",
       "   Current Police Districts 2 2  Current Supervisor Districts 2 2  \\\n",
       "0                           NaN                               NaN   \n",
       "1                           1.0                              10.0   \n",
       "2                           3.0                               5.0   \n",
       "3                           7.0                               8.0   \n",
       "4                           9.0                               1.0   \n",
       "\n",
       "   Analysis Neighborhoods 2 2  DELETE - Fire Prevention Districts 2 2  \\\n",
       "0                         NaN                                     NaN   \n",
       "1                        20.0                                     8.0   \n",
       "2                        20.0                                     8.0   \n",
       "3                        38.0                                     1.0   \n",
       "4                        28.0                                     9.0   \n",
       "\n",
       "   DELETE - Police Districts 2 2  DELETE - Supervisor Districts 2 2  \\\n",
       "0                            NaN                                NaN   \n",
       "1                            2.0                                9.0   \n",
       "2                            4.0                                5.0   \n",
       "3                            5.0                                4.0   \n",
       "4                            7.0                                6.0   \n",
       "\n",
       "   DELETE - Zip Codes 2 2  DELETE - Neighborhoods 2 2  \\\n",
       "0                     NaN                         NaN   \n",
       "1                 28853.0                        19.0   \n",
       "2                 28853.0                        19.0   \n",
       "3                    59.0                        38.0   \n",
       "4                 28861.0                        25.0   \n",
       "\n",
       "   DELETE - 2017 Fix It Zones 2 2  \\\n",
       "0                             NaN   \n",
       "1                             NaN   \n",
       "2                             NaN   \n",
       "3                             NaN   \n",
       "4                             NaN   \n",
       "\n",
       "   Civic Center Harm Reduction Project Boundary 2 2  \\\n",
       "0                                               NaN   \n",
       "1                                               NaN   \n",
       "2                                               NaN   \n",
       "3                                               NaN   \n",
       "4                                               NaN   \n",
       "\n",
       "   Fix It Zones as of 2017-11-06  2 2  DELETE - HSOC Zones 2 2  \\\n",
       "0                                 NaN                      NaN   \n",
       "1                                 NaN                      NaN   \n",
       "2                                 NaN                      3.0   \n",
       "3                                 NaN                      NaN   \n",
       "4                                 NaN                      NaN   \n",
       "\n",
       "   Fix It Zones as of 2018-02-07 2 2  \\\n",
       "0                                NaN   \n",
       "1                                NaN   \n",
       "2                                NaN   \n",
       "3                                NaN   \n",
       "4                                NaN   \n",
       "\n",
       "   CBD, BID and GBD Boundaries as of 2017 2 2  \\\n",
       "0                                         NaN   \n",
       "1                                         NaN   \n",
       "2                                         NaN   \n",
       "3                                         NaN   \n",
       "4                                         NaN   \n",
       "\n",
       "   Areas of Vulnerability, 2016 2 2  Central Market/Tenderloin Boundary 2 2  \\\n",
       "0                               NaN                                     NaN   \n",
       "1                               2.0                                     NaN   \n",
       "2                               2.0                                     NaN   \n",
       "3                               1.0                                     NaN   \n",
       "4                               2.0                                     NaN   \n",
       "\n",
       "   Central Market/Tenderloin Boundary Polygon - Updated 2 2  \\\n",
       "0                                                NaN          \n",
       "1                                                NaN          \n",
       "2                                                NaN          \n",
       "3                                                NaN          \n",
       "4                                                NaN          \n",
       "\n",
       "   HSOC Zones as of 2018-06-05 2 2  OWED Public Spaces 2 2  Neighborhoods 2  \n",
       "0                              NaN                     NaN              NaN  \n",
       "1                              NaN                     NaN             32.0  \n",
       "2                              3.0                     NaN              NaN  \n",
       "3                              NaN                     NaN             49.0  \n",
       "4                              NaN                     NaN             66.0  "
      ]
     },
     "execution_count": 5,
     "metadata": {},
     "output_type": "execute_result"
    }
   ],
   "source": [
    "data.head()"
   ]
  },
  {
   "cell_type": "code",
   "execution_count": 6,
   "metadata": {},
   "outputs": [
    {
     "data": {
      "text/html": [
       "<div>\n",
       "<style scoped>\n",
       "    .dataframe tbody tr th:only-of-type {\n",
       "        vertical-align: middle;\n",
       "    }\n",
       "\n",
       "    .dataframe tbody tr th {\n",
       "        vertical-align: top;\n",
       "    }\n",
       "\n",
       "    .dataframe thead th {\n",
       "        text-align: right;\n",
       "    }\n",
       "</style>\n",
       "<table border=\"1\" class=\"dataframe\">\n",
       "  <thead>\n",
       "    <tr style=\"text-align: right;\">\n",
       "      <th></th>\n",
       "      <th>PdId</th>\n",
       "      <th>IncidntNum</th>\n",
       "      <th>Incident Code</th>\n",
       "      <th>Category</th>\n",
       "      <th>Descript</th>\n",
       "      <th>DayOfWeek</th>\n",
       "      <th>Date</th>\n",
       "      <th>Time</th>\n",
       "      <th>PdDistrict</th>\n",
       "      <th>Resolution</th>\n",
       "      <th>Address</th>\n",
       "      <th>X</th>\n",
       "      <th>Y</th>\n",
       "      <th>location</th>\n",
       "      <th>SF Find Neighborhoods 2 2</th>\n",
       "      <th>Current Police Districts 2 2</th>\n",
       "      <th>Current Supervisor Districts 2 2</th>\n",
       "      <th>Analysis Neighborhoods 2 2</th>\n",
       "      <th>DELETE - Fire Prevention Districts 2 2</th>\n",
       "      <th>DELETE - Police Districts 2 2</th>\n",
       "      <th>DELETE - Supervisor Districts 2 2</th>\n",
       "      <th>DELETE - Zip Codes 2 2</th>\n",
       "      <th>DELETE - Neighborhoods 2 2</th>\n",
       "      <th>DELETE - 2017 Fix It Zones 2 2</th>\n",
       "      <th>Civic Center Harm Reduction Project Boundary 2 2</th>\n",
       "      <th>Fix It Zones as of 2017-11-06  2 2</th>\n",
       "      <th>DELETE - HSOC Zones 2 2</th>\n",
       "      <th>Fix It Zones as of 2018-02-07 2 2</th>\n",
       "      <th>CBD, BID and GBD Boundaries as of 2017 2 2</th>\n",
       "      <th>Areas of Vulnerability, 2016 2 2</th>\n",
       "      <th>Central Market/Tenderloin Boundary 2 2</th>\n",
       "      <th>Central Market/Tenderloin Boundary Polygon - Updated 2 2</th>\n",
       "      <th>HSOC Zones as of 2018-06-05 2 2</th>\n",
       "      <th>OWED Public Spaces 2 2</th>\n",
       "      <th>Neighborhoods 2</th>\n",
       "    </tr>\n",
       "  </thead>\n",
       "  <tbody>\n",
       "    <tr>\n",
       "      <th>2160948</th>\n",
       "      <td>16054122161030</td>\n",
       "      <td>160541221</td>\n",
       "      <td>61030</td>\n",
       "      <td>NON-CRIMINAL</td>\n",
       "      <td>DEATH REPORT, CAUSE UNKNOWN</td>\n",
       "      <td>Monday</td>\n",
       "      <td>07/04/2016</td>\n",
       "      <td>16:08</td>\n",
       "      <td>TENDERLOIN</td>\n",
       "      <td>NONE</td>\n",
       "      <td>300 Block of ELLIS ST</td>\n",
       "      <td>-122.411988</td>\n",
       "      <td>37.785023</td>\n",
       "      <td>POINT (-122.41198764359528 37.78502266227863)</td>\n",
       "      <td>20.0</td>\n",
       "      <td>5.0</td>\n",
       "      <td>10.0</td>\n",
       "      <td>36.0</td>\n",
       "      <td>14.0</td>\n",
       "      <td>10.0</td>\n",
       "      <td>9.0</td>\n",
       "      <td>28852.0</td>\n",
       "      <td>36.0</td>\n",
       "      <td>17.0</td>\n",
       "      <td>NaN</td>\n",
       "      <td>18.0</td>\n",
       "      <td>NaN</td>\n",
       "      <td>18.0</td>\n",
       "      <td>6.0</td>\n",
       "      <td>2.0</td>\n",
       "      <td>1.0</td>\n",
       "      <td>1.0</td>\n",
       "      <td>NaN</td>\n",
       "      <td>NaN</td>\n",
       "      <td>20.0</td>\n",
       "    </tr>\n",
       "    <tr>\n",
       "      <th>2160949</th>\n",
       "      <td>17044968764085</td>\n",
       "      <td>170449687</td>\n",
       "      <td>64085</td>\n",
       "      <td>SUSPICIOUS OCC</td>\n",
       "      <td>INVESTIGATIVE DETENTION</td>\n",
       "      <td>Thursday</td>\n",
       "      <td>06/01/2017</td>\n",
       "      <td>18:42</td>\n",
       "      <td>BAYVIEW</td>\n",
       "      <td>NONE</td>\n",
       "      <td>200 Block of WILLIAMS AV</td>\n",
       "      <td>-122.397744</td>\n",
       "      <td>37.729935</td>\n",
       "      <td>POINT (-122.39774442710336 37.729934693604356)</td>\n",
       "      <td>86.0</td>\n",
       "      <td>2.0</td>\n",
       "      <td>9.0</td>\n",
       "      <td>1.0</td>\n",
       "      <td>10.0</td>\n",
       "      <td>3.0</td>\n",
       "      <td>8.0</td>\n",
       "      <td>58.0</td>\n",
       "      <td>1.0</td>\n",
       "      <td>NaN</td>\n",
       "      <td>NaN</td>\n",
       "      <td>NaN</td>\n",
       "      <td>NaN</td>\n",
       "      <td>NaN</td>\n",
       "      <td>NaN</td>\n",
       "      <td>2.0</td>\n",
       "      <td>NaN</td>\n",
       "      <td>NaN</td>\n",
       "      <td>NaN</td>\n",
       "      <td>NaN</td>\n",
       "      <td>86.0</td>\n",
       "    </tr>\n",
       "    <tr>\n",
       "      <th>2160950</th>\n",
       "      <td>17047243406133</td>\n",
       "      <td>170472434</td>\n",
       "      <td>6133</td>\n",
       "      <td>LARCENY/THEFT</td>\n",
       "      <td>GRAND THEFT PURSESNATCH</td>\n",
       "      <td>Friday</td>\n",
       "      <td>06/09/2017</td>\n",
       "      <td>19:10</td>\n",
       "      <td>NORTHERN</td>\n",
       "      <td>NONE</td>\n",
       "      <td>FULTON ST / GOUGH ST</td>\n",
       "      <td>-122.423355</td>\n",
       "      <td>37.778747</td>\n",
       "      <td>POINT (-122.42335514444734 37.7787466492059)</td>\n",
       "      <td>22.0</td>\n",
       "      <td>4.0</td>\n",
       "      <td>11.0</td>\n",
       "      <td>9.0</td>\n",
       "      <td>7.0</td>\n",
       "      <td>9.0</td>\n",
       "      <td>11.0</td>\n",
       "      <td>28852.0</td>\n",
       "      <td>10.0</td>\n",
       "      <td>NaN</td>\n",
       "      <td>1.0</td>\n",
       "      <td>NaN</td>\n",
       "      <td>1.0</td>\n",
       "      <td>NaN</td>\n",
       "      <td>NaN</td>\n",
       "      <td>1.0</td>\n",
       "      <td>NaN</td>\n",
       "      <td>NaN</td>\n",
       "      <td>1.0</td>\n",
       "      <td>NaN</td>\n",
       "      <td>22.0</td>\n",
       "    </tr>\n",
       "    <tr>\n",
       "      <th>2160951</th>\n",
       "      <td>17095059363010</td>\n",
       "      <td>170950593</td>\n",
       "      <td>63010</td>\n",
       "      <td>WARRANTS</td>\n",
       "      <td>WARRANT ARREST</td>\n",
       "      <td>Wednesday</td>\n",
       "      <td>11/22/2017</td>\n",
       "      <td>14:30</td>\n",
       "      <td>MISSION</td>\n",
       "      <td>ARREST, BOOKED</td>\n",
       "      <td>MISSION ST / 18TH ST</td>\n",
       "      <td>-122.419360</td>\n",
       "      <td>37.761836</td>\n",
       "      <td>POINT (-122.41936035276092 37.761835801237645)</td>\n",
       "      <td>53.0</td>\n",
       "      <td>3.0</td>\n",
       "      <td>2.0</td>\n",
       "      <td>20.0</td>\n",
       "      <td>2.0</td>\n",
       "      <td>4.0</td>\n",
       "      <td>7.0</td>\n",
       "      <td>28859.0</td>\n",
       "      <td>19.0</td>\n",
       "      <td>13.0</td>\n",
       "      <td>NaN</td>\n",
       "      <td>15.0</td>\n",
       "      <td>3.0</td>\n",
       "      <td>15.0</td>\n",
       "      <td>NaN</td>\n",
       "      <td>2.0</td>\n",
       "      <td>NaN</td>\n",
       "      <td>NaN</td>\n",
       "      <td>3.0</td>\n",
       "      <td>NaN</td>\n",
       "      <td>53.0</td>\n",
       "    </tr>\n",
       "    <tr>\n",
       "      <th>2160952</th>\n",
       "      <td>17608386706244</td>\n",
       "      <td>176083867</td>\n",
       "      <td>6244</td>\n",
       "      <td>LARCENY/THEFT</td>\n",
       "      <td>GRAND THEFT FROM LOCKED AUTO</td>\n",
       "      <td>Wednesday</td>\n",
       "      <td>03/22/2017</td>\n",
       "      <td>05:29</td>\n",
       "      <td>INGLESIDE</td>\n",
       "      <td>NONE</td>\n",
       "      <td>SHOTWELL ST / STONEMAN ST</td>\n",
       "      <td>-122.414921</td>\n",
       "      <td>37.745045</td>\n",
       "      <td>POINT (-122.41492076300118 37.74504465100493)</td>\n",
       "      <td>83.0</td>\n",
       "      <td>9.0</td>\n",
       "      <td>2.0</td>\n",
       "      <td>2.0</td>\n",
       "      <td>2.0</td>\n",
       "      <td>7.0</td>\n",
       "      <td>7.0</td>\n",
       "      <td>28859.0</td>\n",
       "      <td>2.0</td>\n",
       "      <td>NaN</td>\n",
       "      <td>NaN</td>\n",
       "      <td>NaN</td>\n",
       "      <td>NaN</td>\n",
       "      <td>NaN</td>\n",
       "      <td>NaN</td>\n",
       "      <td>1.0</td>\n",
       "      <td>NaN</td>\n",
       "      <td>NaN</td>\n",
       "      <td>NaN</td>\n",
       "      <td>NaN</td>\n",
       "      <td>83.0</td>\n",
       "    </tr>\n",
       "  </tbody>\n",
       "</table>\n",
       "</div>"
      ],
      "text/plain": [
       "                   PdId  IncidntNum  Incident Code        Category  \\\n",
       "2160948  16054122161030   160541221          61030    NON-CRIMINAL   \n",
       "2160949  17044968764085   170449687          64085  SUSPICIOUS OCC   \n",
       "2160950  17047243406133   170472434           6133   LARCENY/THEFT   \n",
       "2160951  17095059363010   170950593          63010        WARRANTS   \n",
       "2160952  17608386706244   176083867           6244   LARCENY/THEFT   \n",
       "\n",
       "                             Descript  DayOfWeek        Date   Time  \\\n",
       "2160948   DEATH REPORT, CAUSE UNKNOWN     Monday  07/04/2016  16:08   \n",
       "2160949       INVESTIGATIVE DETENTION   Thursday  06/01/2017  18:42   \n",
       "2160950       GRAND THEFT PURSESNATCH     Friday  06/09/2017  19:10   \n",
       "2160951                WARRANT ARREST  Wednesday  11/22/2017  14:30   \n",
       "2160952  GRAND THEFT FROM LOCKED AUTO  Wednesday  03/22/2017  05:29   \n",
       "\n",
       "         PdDistrict      Resolution                    Address           X  \\\n",
       "2160948  TENDERLOIN            NONE      300 Block of ELLIS ST -122.411988   \n",
       "2160949     BAYVIEW            NONE   200 Block of WILLIAMS AV -122.397744   \n",
       "2160950    NORTHERN            NONE       FULTON ST / GOUGH ST -122.423355   \n",
       "2160951     MISSION  ARREST, BOOKED       MISSION ST / 18TH ST -122.419360   \n",
       "2160952   INGLESIDE            NONE  SHOTWELL ST / STONEMAN ST -122.414921   \n",
       "\n",
       "                 Y                                        location  \\\n",
       "2160948  37.785023   POINT (-122.41198764359528 37.78502266227863)   \n",
       "2160949  37.729935  POINT (-122.39774442710336 37.729934693604356)   \n",
       "2160950  37.778747    POINT (-122.42335514444734 37.7787466492059)   \n",
       "2160951  37.761836  POINT (-122.41936035276092 37.761835801237645)   \n",
       "2160952  37.745045   POINT (-122.41492076300118 37.74504465100493)   \n",
       "\n",
       "         SF Find Neighborhoods 2 2  Current Police Districts 2 2  \\\n",
       "2160948                       20.0                           5.0   \n",
       "2160949                       86.0                           2.0   \n",
       "2160950                       22.0                           4.0   \n",
       "2160951                       53.0                           3.0   \n",
       "2160952                       83.0                           9.0   \n",
       "\n",
       "         Current Supervisor Districts 2 2  Analysis Neighborhoods 2 2  \\\n",
       "2160948                              10.0                        36.0   \n",
       "2160949                               9.0                         1.0   \n",
       "2160950                              11.0                         9.0   \n",
       "2160951                               2.0                        20.0   \n",
       "2160952                               2.0                         2.0   \n",
       "\n",
       "         DELETE - Fire Prevention Districts 2 2  \\\n",
       "2160948                                    14.0   \n",
       "2160949                                    10.0   \n",
       "2160950                                     7.0   \n",
       "2160951                                     2.0   \n",
       "2160952                                     2.0   \n",
       "\n",
       "         DELETE - Police Districts 2 2  DELETE - Supervisor Districts 2 2  \\\n",
       "2160948                           10.0                                9.0   \n",
       "2160949                            3.0                                8.0   \n",
       "2160950                            9.0                               11.0   \n",
       "2160951                            4.0                                7.0   \n",
       "2160952                            7.0                                7.0   \n",
       "\n",
       "         DELETE - Zip Codes 2 2  DELETE - Neighborhoods 2 2  \\\n",
       "2160948                 28852.0                        36.0   \n",
       "2160949                    58.0                         1.0   \n",
       "2160950                 28852.0                        10.0   \n",
       "2160951                 28859.0                        19.0   \n",
       "2160952                 28859.0                         2.0   \n",
       "\n",
       "         DELETE - 2017 Fix It Zones 2 2  \\\n",
       "2160948                            17.0   \n",
       "2160949                             NaN   \n",
       "2160950                             NaN   \n",
       "2160951                            13.0   \n",
       "2160952                             NaN   \n",
       "\n",
       "         Civic Center Harm Reduction Project Boundary 2 2  \\\n",
       "2160948                                               NaN   \n",
       "2160949                                               NaN   \n",
       "2160950                                               1.0   \n",
       "2160951                                               NaN   \n",
       "2160952                                               NaN   \n",
       "\n",
       "         Fix It Zones as of 2017-11-06  2 2  DELETE - HSOC Zones 2 2  \\\n",
       "2160948                                18.0                      NaN   \n",
       "2160949                                 NaN                      NaN   \n",
       "2160950                                 NaN                      1.0   \n",
       "2160951                                15.0                      3.0   \n",
       "2160952                                 NaN                      NaN   \n",
       "\n",
       "         Fix It Zones as of 2018-02-07 2 2  \\\n",
       "2160948                               18.0   \n",
       "2160949                                NaN   \n",
       "2160950                                NaN   \n",
       "2160951                               15.0   \n",
       "2160952                                NaN   \n",
       "\n",
       "         CBD, BID and GBD Boundaries as of 2017 2 2  \\\n",
       "2160948                                         6.0   \n",
       "2160949                                         NaN   \n",
       "2160950                                         NaN   \n",
       "2160951                                         NaN   \n",
       "2160952                                         NaN   \n",
       "\n",
       "         Areas of Vulnerability, 2016 2 2  \\\n",
       "2160948                               2.0   \n",
       "2160949                               2.0   \n",
       "2160950                               1.0   \n",
       "2160951                               2.0   \n",
       "2160952                               1.0   \n",
       "\n",
       "         Central Market/Tenderloin Boundary 2 2  \\\n",
       "2160948                                     1.0   \n",
       "2160949                                     NaN   \n",
       "2160950                                     NaN   \n",
       "2160951                                     NaN   \n",
       "2160952                                     NaN   \n",
       "\n",
       "         Central Market/Tenderloin Boundary Polygon - Updated 2 2  \\\n",
       "2160948                                                1.0          \n",
       "2160949                                                NaN          \n",
       "2160950                                                NaN          \n",
       "2160951                                                NaN          \n",
       "2160952                                                NaN          \n",
       "\n",
       "         HSOC Zones as of 2018-06-05 2 2  OWED Public Spaces 2 2  \\\n",
       "2160948                              NaN                     NaN   \n",
       "2160949                              NaN                     NaN   \n",
       "2160950                              1.0                     NaN   \n",
       "2160951                              3.0                     NaN   \n",
       "2160952                              NaN                     NaN   \n",
       "\n",
       "         Neighborhoods 2  \n",
       "2160948             20.0  \n",
       "2160949             86.0  \n",
       "2160950             22.0  \n",
       "2160951             53.0  \n",
       "2160952             83.0  "
      ]
     },
     "execution_count": 6,
     "metadata": {},
     "output_type": "execute_result"
    }
   ],
   "source": [
    "data.tail()"
   ]
  },
  {
   "cell_type": "code",
   "execution_count": 7,
   "metadata": {},
   "outputs": [
    {
     "data": {
      "text/plain": [
       "Index(['PdId', 'IncidntNum', 'Incident Code', 'Category', 'Descript',\n",
       "       'DayOfWeek', 'Date', 'Time', 'PdDistrict', 'Resolution', 'Address', 'X',\n",
       "       'Y', 'location', 'SF Find Neighborhoods 2 2',\n",
       "       'Current Police Districts 2 2', 'Current Supervisor Districts 2 2',\n",
       "       'Analysis Neighborhoods 2 2', 'DELETE - Fire Prevention Districts 2 2',\n",
       "       'DELETE - Police Districts 2 2', 'DELETE - Supervisor Districts 2 2',\n",
       "       'DELETE - Zip Codes 2 2', 'DELETE - Neighborhoods 2 2',\n",
       "       'DELETE - 2017 Fix It Zones 2 2',\n",
       "       'Civic Center Harm Reduction Project Boundary 2 2',\n",
       "       'Fix It Zones as of 2017-11-06  2 2', 'DELETE - HSOC Zones 2 2',\n",
       "       'Fix It Zones as of 2018-02-07 2 2',\n",
       "       'CBD, BID and GBD Boundaries as of 2017 2 2',\n",
       "       'Areas of Vulnerability, 2016 2 2',\n",
       "       'Central Market/Tenderloin Boundary 2 2',\n",
       "       'Central Market/Tenderloin Boundary Polygon - Updated 2 2',\n",
       "       'HSOC Zones as of 2018-06-05 2 2', 'OWED Public Spaces 2 2',\n",
       "       'Neighborhoods 2'],\n",
       "      dtype='object')"
      ]
     },
     "execution_count": 7,
     "metadata": {},
     "output_type": "execute_result"
    }
   ],
   "source": [
    "data.columns"
   ]
  },
  {
   "cell_type": "markdown",
   "metadata": {},
   "source": [
    "### Report the Total Number of Crimes in the Dataset"
   ]
  },
  {
   "cell_type": "code",
   "execution_count": 8,
   "metadata": {},
   "outputs": [
    {
     "name": "stdout",
     "output_type": "stream",
     "text": [
      "2160953\n"
     ]
    }
   ],
   "source": [
    "ttl_num = len(data)\n",
    "print(ttl_num)"
   ]
  },
  {
   "cell_type": "markdown",
   "metadata": {},
   "source": [
    "### Various Categories of Crime"
   ]
  },
  {
   "cell_type": "code",
   "execution_count": 9,
   "metadata": {},
   "outputs": [
    {
     "name": "stdout",
     "output_type": "stream",
     "text": [
      "['ARSON', 'ASSAULT', 'BAD CHECKS', 'BRIBERY', 'BURGLARY', 'DISORDERLY CONDUCT', 'DRIVING UNDER THE INFLUENCE', 'DRUG/NARCOTIC', 'DRUNKENNESS', 'EMBEZZLEMENT', 'EXTORTION', 'FAMILY OFFENSES', 'FORGERY/COUNTERFEITING', 'FRAUD', 'GAMBLING', 'KIDNAPPING', 'LARCENY/THEFT', 'LIQUOR LAWS', 'LOITERING', 'MISSING PERSON', 'NON-CRIMINAL', 'OTHER OFFENSES', 'PORNOGRAPHY/OBSCENE MAT', 'PROSTITUTION', 'RECOVERED VEHICLE', 'ROBBERY', 'SECONDARY CODES', 'SEX OFFENSES, FORCIBLE', 'SEX OFFENSES, NON FORCIBLE', 'STOLEN PROPERTY', 'SUICIDE', 'SUSPICIOUS OCC', 'TREA', 'TRESPASS', 'VANDALISM', 'VEHICLE THEFT', 'WARRANTS', 'WEAPON LAWS']\n"
     ]
    }
   ],
   "source": [
    "cat_of_crm = sorted(data['Category'].unique())\n",
    "print(cat_of_crm)"
   ]
  },
  {
   "cell_type": "markdown",
   "metadata": {},
   "source": [
    "### Number of Crimes in each Category"
   ]
  },
  {
   "cell_type": "code",
   "execution_count": 10,
   "metadata": {
    "scrolled": true
   },
   "outputs": [
    {
     "name": "stdout",
     "output_type": "stream",
     "text": [
      "LARCENY/THEFT                  477975\n",
      "OTHER OFFENSES                 303027\n",
      "NON-CRIMINAL                   236937\n",
      "ASSAULT                        191384\n",
      "VEHICLE THEFT                  126228\n",
      "DRUG/NARCOTIC                  117875\n",
      "VANDALISM                      114718\n",
      "WARRANTS                        99821\n",
      "BURGLARY                        91067\n",
      "SUSPICIOUS OCC                  79740\n",
      "ROBBERY                         54467\n",
      "MISSING PERSON                  44268\n",
      "FRAUD                           41348\n",
      "FORGERY/COUNTERFEITING          22995\n",
      "SECONDARY CODES                 22378\n",
      "WEAPON LAWS                     21004\n",
      "TRESPASS                        19194\n",
      "PROSTITUTION                    16501\n",
      "STOLEN PROPERTY                 11450\n",
      "SEX OFFENSES, FORCIBLE          10876\n",
      "DISORDERLY CONDUCT               9932\n",
      "DRUNKENNESS                      9760\n",
      "RECOVERED VEHICLE                8688\n",
      "DRIVING UNDER THE INFLUENCE      5652\n",
      "KIDNAPPING                       4966\n",
      "LIQUOR LAWS                      3941\n",
      "ARSON                            3875\n",
      "EMBEZZLEMENT                     2984\n",
      "LOITERING                        2402\n",
      "SUICIDE                          1291\n",
      "FAMILY OFFENSES                   926\n",
      "BAD CHECKS                        924\n",
      "BRIBERY                           796\n",
      "EXTORTION                         729\n",
      "SEX OFFENSES, NON FORCIBLE        420\n",
      "GAMBLING                          343\n",
      "PORNOGRAPHY/OBSCENE MAT            57\n",
      "TREA                               14\n",
      "Name: Category, dtype: int64\n"
     ]
    }
   ],
   "source": [
    "num_cri_cat = data['Category'].value_counts()\n",
    "print(num_cri_cat)"
   ]
  },
  {
   "cell_type": "markdown",
   "metadata": {},
   "source": [
    "### Count all the Different Categories of Crime"
   ]
  },
  {
   "cell_type": "code",
   "execution_count": 11,
   "metadata": {},
   "outputs": [
    {
     "name": "stdout",
     "output_type": "stream",
     "text": [
      "38\n"
     ]
    }
   ],
   "source": [
    "count_cat = len(cat_of_crm)\n",
    "print(count_cat)"
   ]
  },
  {
   "cell_type": "markdown",
   "metadata": {},
   "source": [
    "### Most Commonly Occuring Category of Crime"
   ]
  },
  {
   "cell_type": "code",
   "execution_count": 12,
   "metadata": {},
   "outputs": [
    {
     "name": "stdout",
     "output_type": "stream",
     "text": [
      "477975\n"
     ]
    }
   ],
   "source": [
    "max_value = num_cri_cat.max()\n",
    "print(max_value)"
   ]
  },
  {
   "cell_type": "markdown",
   "metadata": {},
   "source": [
    "### Least Frequentle Occuring Category of Crime"
   ]
  },
  {
   "cell_type": "code",
   "execution_count": 13,
   "metadata": {},
   "outputs": [
    {
     "name": "stdout",
     "output_type": "stream",
     "text": [
      "14\n"
     ]
    }
   ],
   "source": [
    "min_value = num_cri_cat.min()\n",
    "print(min_value)"
   ]
  },
  {
   "cell_type": "markdown",
   "metadata": {},
   "source": [
    "### Creating a DataFrame"
   ]
  },
  {
   "cell_type": "code",
   "execution_count": 14,
   "metadata": {},
   "outputs": [],
   "source": [
    "col = ['Category', 'Occurences']\n",
    "\n",
    "cri_occ = pd.DataFrame(num_cri_cat.reset_index())\n",
    "cri_occ.columns = col"
   ]
  },
  {
   "cell_type": "markdown",
   "metadata": {},
   "source": [
    "### Plotting a HIstogram"
   ]
  },
  {
   "cell_type": "code",
   "execution_count": 15,
   "metadata": {},
   "outputs": [
    {
     "data": {
      "image/png": "[encoded data removed]",
      "text/plain": [
       "<Figure size 1080x720 with 1 Axes>"
      ]
     },
     "metadata": {
      "needs_background": "light"
     },
     "output_type": "display_data"
    }
   ],
   "source": [
    "cri_occ.plot(kind='bar', x='Category', y='Occurences', figsize=(15,10), legend=False)\n",
    "\n",
    "plt.title('Crime Occurences', fontsize=15)\n",
    "plt.ylabel('Occurences', fontsize=15)\n",
    "plt.xlabel('Categories', fontsize=15)\n",
    "\n",
    "plt.show()"
   ]
  },
  {
   "cell_type": "code",
   "execution_count": 16,
   "metadata": {},
   "outputs": [],
   "source": [
    "#Cat = data['Category']\n",
    "#plt.figure(figsize=(15,10), dpi = 100)\n",
    "#plt.hist(Cat, bins = CountCat, edgecolor='white')\n",
    "#plt.title('Crime Occurences', fontsize=15)\n",
    "#plt.ylabel('Occurences', fontsize=15)\n",
    "#plt.xlabel('Categories', fontsize=15)\n",
    "#plt.xticks(rotation=90)\n",
    "#plt.show()"
   ]
  },
  {
   "cell_type": "markdown",
   "metadata": {},
   "source": [
    "### Adding the Year Column"
   ]
  },
  {
   "cell_type": "code",
   "execution_count": 17,
   "metadata": {},
   "outputs": [],
   "source": [
    "data['Year'] = data['Date'].str.strip().str[-4:]"
   ]
  },
  {
   "cell_type": "markdown",
   "metadata": {},
   "source": [
    "### Number of Crimes per Year"
   ]
  },
  {
   "cell_type": "code",
   "execution_count": 18,
   "metadata": {},
   "outputs": [
    {
     "name": "stdout",
     "output_type": "stream",
     "text": [
      "2015    153771\n",
      "2017    151759\n",
      "2013    149639\n",
      "2016    148379\n",
      "2014    147056\n",
      "2003    145073\n",
      "2004    144323\n",
      "2005    138807\n",
      "2012    137334\n",
      "2008    137113\n",
      "2009    136218\n",
      "2006    133726\n",
      "2007    133601\n",
      "2010    129750\n",
      "2011    128563\n",
      "2018     45841\n",
      "Name: Year, dtype: int64\n"
     ]
    }
   ],
   "source": [
    "num_cri_year = data['Year'].value_counts()\n",
    "print(num_cri_year)"
   ]
  },
  {
   "cell_type": "markdown",
   "metadata": {},
   "source": [
    "### Average Number of Crimes per Year"
   ]
  },
  {
   "cell_type": "code",
   "execution_count": 19,
   "metadata": {},
   "outputs": [
    {
     "name": "stdout",
     "output_type": "stream",
     "text": [
      "141007.46666666667\n"
     ]
    }
   ],
   "source": [
    "cri_year = list(num_cri_year)\n",
    "cri_year.pop()\n",
    "\n",
    "avg_num_cri_year = sum(cri_year)/len(cri_year)\n",
    "print(avg_num_cri_year)"
   ]
  },
  {
   "cell_type": "markdown",
   "metadata": {},
   "source": [
    "### Focus Crimes"
   ]
  },
  {
   "cell_type": "code",
   "execution_count": 20,
   "metadata": {},
   "outputs": [],
   "source": [
    "focus_crimes = set(['WEAPON LAWS', 'PROSTITUTION', 'DRIVING UNDER THE INFLUENCE', 'ROBBERY', 'BURGLARY', 'ASSAULT', 'DRUNKENNESS', 'DRUG/NARCOTIC', 'TRESPASS', 'LARCENY/THEFT', 'VANDALISM', 'VEHICLE THEFT', 'STOLEN PROPERTY', 'DISORDERLY CONDUCT'])\n",
    "focus_data = data[['Category', 'Year']].copy()\n",
    "focus_data = focus_data[focus_data['Category'].isin(focus_crimes)].reset_index(drop=True)\n",
    "focus_data = focus_data.drop(focus_data[focus_data['Year'] == '2018'].index)"
   ]
  },
  {
   "cell_type": "markdown",
   "metadata": {},
   "source": [
    "### 14 Focus Crimes Bar Plots"
   ]
  },
  {
   "cell_type": "code",
   "execution_count": 21,
   "metadata": {},
   "outputs": [
    {
     "data": {
      "image/png": "[encoded data removed]",
      "text/plain": [
       "<Figure size 1080x1440 with 14 Axes>"
      ]
     },
     "metadata": {
      "needs_background": "light"
     },
     "output_type": "display_data"
    }
   ],
   "source": [
    "fig, axes = plt.subplots(nrows=7, ncols=2, figsize=(15,20), sharex=True)\n",
    "\n",
    "col = ['Year', 'Occurences']\n",
    "\n",
    "for i, crime in enumerate(focus_crimes):\n",
    "    crime_data = focus_data[focus_data['Category'] == crime]['Year'].value_counts()\n",
    "    crime_dataframe = pd.DataFrame(crime_data.reset_index())\n",
    "    crime_dataframe.columns = col\n",
    "    crime_dataframe = crime_dataframe.sort_values(by=['Year'])\n",
    "    \n",
    "    crime_dataframe.plot(kind='bar', x='Year', y='Occurences', title=crime, ax=axes[i//2,i%2], legend=False)\n",
    "    \n",
    "fig.tight_layout()"
   ]
  },
  {
   "cell_type": "markdown",
   "metadata": {},
   "source": [
    "### Grouped Data"
   ]
  },
  {
   "cell_type": "code",
   "execution_count": 22,
   "metadata": {},
   "outputs": [],
   "source": [
    "#GroupFocusData = focusData.groupby([\"Category\", \"Year\"])[\"Year\"].count()"
   ]
  },
  {
   "cell_type": "markdown",
   "metadata": {},
   "source": [
    "### Bins"
   ]
  },
  {
   "cell_type": "code",
   "execution_count": 23,
   "metadata": {},
   "outputs": [],
   "source": [
    "#bins = len(focusData['Year'].unique()) - 1"
   ]
  },
  {
   "cell_type": "markdown",
   "metadata": {},
   "source": [
    "### WEAPON LAWS"
   ]
  },
  {
   "cell_type": "code",
   "execution_count": 24,
   "metadata": {},
   "outputs": [],
   "source": [
    "#weapon_laws = focusData[focusData['Category'] == 'WEAPON LAWS'].sort_values(by=['Year']).reset_index(drop=True)\n",
    "#weapon_laws = weapon_laws.drop(weapon_laws[weapon_laws['Year'] == '2018'].index)\n",
    "\n",
    "#plt.figure(figsize=(15,10), dpi = 100)\n",
    "\n",
    "#plt.hist(weapon_laws['Year'], bins = bins, edgecolor='white')\n",
    "\n",
    "#plt.title('Weapon Laws', fontsize=15)\n",
    "#plt.ylabel('Occurences', fontsize=15)\n",
    "#plt.xlabel('Year', fontsize=15)\n",
    "\n",
    "#plt.xticks(rotation=90)\n",
    "\n",
    "#plt.show()"
   ]
  },
  {
   "cell_type": "markdown",
   "metadata": {},
   "source": [
    "### DRUNKENNESS"
   ]
  },
  {
   "cell_type": "code",
   "execution_count": 25,
   "metadata": {},
   "outputs": [],
   "source": [
    "#drunkenness = focusData[focusData['Category'] == 'DRUNKENNESS'].sort_values(by=['Year']).reset_index(drop=True)\n",
    "#drunkenness = drunkenness.drop(drunkenness[drunkenness['Year'] == '2018'].index)\n",
    "\n",
    "#plt.figure(figsize=(15,10), dpi = 100)\n",
    "\n",
    "#plt.hist(drunkenness['Year'], bins = bins, edgecolor='white')\n",
    "\n",
    "#plt.title('Drunkenness', fontsize=15)\n",
    "#plt.ylabel('Occurences', fontsize=15)\n",
    "#plt.xlabel('Year', fontsize=15)\n",
    "\n",
    "#plt.xticks(rotation=90)\n",
    "\n",
    "#plt.show()"
   ]
  },
  {
   "cell_type": "markdown",
   "metadata": {},
   "source": [
    "### TRESPASS"
   ]
  },
  {
   "cell_type": "code",
   "execution_count": 26,
   "metadata": {
    "scrolled": false
   },
   "outputs": [],
   "source": [
    "#trespass = focusData[focusData['Category'] == 'TRESPASS'].sort_values(by=['Year']).reset_index(drop=True)\n",
    "#trespass = trespass.drop(trespass[trespass['Year'] == '2018'].index)\n",
    "\n",
    "#plt.figure(figsize=(15,10), dpi = 100)\n",
    "\n",
    "#plt.hist(trespass['Year'], bins = bins, edgecolor='white')\n",
    "\n",
    "#plt.title('Trespass', fontsize=15)\n",
    "#plt.ylabel('Occurences', fontsize=15)\n",
    "#plt.xlabel('Year', fontsize=15)\n",
    "\n",
    "#plt.xticks(rotation=90)\n",
    "\n",
    "#plt.show()"
   ]
  },
  {
   "cell_type": "markdown",
   "metadata": {},
   "source": [
    "### PROSTITUTION"
   ]
  },
  {
   "cell_type": "code",
   "execution_count": 27,
   "metadata": {},
   "outputs": [],
   "source": [
    "#prostitution = focusData[focusData['Category'] == 'PROSTITUTION'].sort_values(by=['Year']).reset_index(drop=True)\n",
    "#prostitution = prostitution.drop(prostitution[prostitution['Year'] == '2018'].index)\n",
    "\n",
    "#plt.figure(figsize=(15,10), dpi = 100)\n",
    "\n",
    "#plt.hist(prostitution['Year'], bins = bins, edgecolor='white')\n",
    "\n",
    "#plt.title('Prostitution', fontsize=15)\n",
    "#plt.ylabel('Occurences', fontsize=15)\n",
    "#plt.xlabel('Year', fontsize=15)\n",
    "\n",
    "#plt.xticks(rotation=90)\n",
    "\n",
    "#plt.show()"
   ]
  },
  {
   "cell_type": "markdown",
   "metadata": {},
   "source": [
    "### DRIVING UNDER THE INFLUENCE"
   ]
  },
  {
   "cell_type": "code",
   "execution_count": 28,
   "metadata": {},
   "outputs": [],
   "source": [
    "#dui = focusData[focusData['Category'] == 'DRIVING UNDER THE INFLUENCE'].sort_values(by=['Year']).reset_index(drop=True)\n",
    "#dui = dui.drop(dui[dui['Year'] == '2018'].index)\n",
    "\n",
    "#plt.figure(figsize=(15,10), dpi = 100)\n",
    "\n",
    "#plt.hist(dui['Year'], bins = bins, edgecolor='white')\n",
    "\n",
    "#plt.title('Driving Under the Influence', fontsize=15)\n",
    "#plt.ylabel('Occurences', fontsize=15)\n",
    "#plt.xlabel('Year', fontsize=15)\n",
    "\n",
    "#plt.xticks(rotation=90)\n",
    "\n",
    "#plt.show()"
   ]
  },
  {
   "cell_type": "markdown",
   "metadata": {},
   "source": [
    "### BURGLARY"
   ]
  },
  {
   "cell_type": "code",
   "execution_count": 29,
   "metadata": {},
   "outputs": [],
   "source": [
    "#burglary = focusData[focusData['Category'] == 'BURGLARY'].sort_values(by=['Year']).reset_index(drop=True)\n",
    "#burglary = burglary.drop(burglary[burglary['Year'] == '2018'].index)\n",
    "\n",
    "#plt.figure(figsize=(15,10), dpi = 100)\n",
    "\n",
    "#plt.hist(burglary['Year'], bins = bins, edgecolor='white')\n",
    "\n",
    "#plt.title('Burglary', fontsize=15)\n",
    "#plt.ylabel('Occurences', fontsize=15)\n",
    "#plt.xlabel('Year', fontsize=15)\n",
    "\n",
    "#plt.xticks(rotation=90)\n",
    "\n",
    "#plt.show()"
   ]
  },
  {
   "cell_type": "markdown",
   "metadata": {},
   "source": [
    "### ROBBERY"
   ]
  },
  {
   "cell_type": "code",
   "execution_count": 30,
   "metadata": {},
   "outputs": [],
   "source": [
    "#robbery = focusData[focusData['Category'] == 'ROBBERY'].sort_values(by=['Year']).reset_index(drop=True)\n",
    "#robbery = robbery.drop(robbery[robbery['Year'] == '2018'].index)\n",
    "\n",
    "#plt.figure(figsize=(15,10), dpi = 100)\n",
    "\n",
    "#plt.hist(robbery['Year'], bins = bins, edgecolor='white')\n",
    "\n",
    "#plt.title('Robbery', fontsize=15)\n",
    "#plt.ylabel('Occurences', fontsize=15)\n",
    "#plt.xlabel('Year', fontsize=15)\n",
    "\n",
    "#plt.xticks(rotation=90)\n",
    "\n",
    "#plt.show()"
   ]
  },
  {
   "cell_type": "markdown",
   "metadata": {},
   "source": [
    "### DRUG/NARCOTIC"
   ]
  },
  {
   "cell_type": "code",
   "execution_count": 31,
   "metadata": {},
   "outputs": [],
   "source": [
    "#drug = focusData[focusData['Category'] == 'DRUG/NARCOTIC'].sort_values(by=['Year']).reset_index(drop=True)\n",
    "#drug = drug.drop(drug[drug['Year'] == '2018'].index)\n",
    "\n",
    "#plt.figure(figsize=(15,10), dpi = 100)\n",
    "\n",
    "#plt.hist(drug['Year'], bins = bins, edgecolor='white')\n",
    "\n",
    "#plt.title('Drug/Narcotic', fontsize=15)\n",
    "#plt.ylabel('Occurences', fontsize=15)\n",
    "#plt.xlabel('Year', fontsize=15)\n",
    "\n",
    "#plt.xticks(rotation=90)\n",
    "\n",
    "#plt.show()"
   ]
  },
  {
   "cell_type": "markdown",
   "metadata": {},
   "source": [
    "### LARCENY/THEFT"
   ]
  },
  {
   "cell_type": "code",
   "execution_count": 32,
   "metadata": {},
   "outputs": [],
   "source": [
    "#theft = focusData[focusData['Category'] == 'LARCENY/THEFT'].sort_values(by=['Year']).reset_index(drop=True)\n",
    "#theft = theft.drop(theft[theft['Year'] == '2018'].index)\n",
    "\n",
    "#plt.figure(figsize=(15,10), dpi = 100)\n",
    "\n",
    "#plt.hist(theft['Year'], bins = bins, edgecolor='white')\n",
    "\n",
    "#plt.title('Larcent/Theft', fontsize=15)\n",
    "#plt.ylabel('Occurences', fontsize=15)\n",
    "#plt.xlabel('Year', fontsize=15)\n",
    "\n",
    "#plt.xticks(rotation=90)\n",
    "\n",
    "#plt.show()"
   ]
  },
  {
   "cell_type": "markdown",
   "metadata": {},
   "source": [
    "### DISORDERLY CONDUCT"
   ]
  },
  {
   "cell_type": "code",
   "execution_count": 33,
   "metadata": {},
   "outputs": [],
   "source": [
    "#ds = focusData[focusData['Category'] == 'DISORDERLY CONDUCT'].sort_values(by=['Year']).reset_index(drop=True)\n",
    "#ds = ds.drop(ds[ds['Year'] == '2018'].index)\n",
    "\n",
    "#plt.figure(figsize=(15,10), dpi = 100)\n",
    "\n",
    "#plt.hist(ds['Year'], bins = bins, edgecolor='white')\n",
    "\n",
    "#plt.title('Disorderly Conduct', fontsize=15)\n",
    "#plt.ylabel('Occurences', fontsize=15)\n",
    "#plt.xlabel('Year', fontsize=15)\n",
    "\n",
    "#plt.xticks(rotation=90)\n",
    "\n",
    "#plt.show()"
   ]
  },
  {
   "cell_type": "markdown",
   "metadata": {},
   "source": [
    "### VANDALISM"
   ]
  },
  {
   "cell_type": "code",
   "execution_count": 34,
   "metadata": {},
   "outputs": [],
   "source": [
    "#vandalism = focusData[focusData['Category'] == 'VANDALISM'].sort_values(by=['Year']).reset_index(drop=True)\n",
    "#vandalism = vandalism.drop(vandalism[vandalism['Year'] == '2018'].index)\n",
    "\n",
    "#plt.figure(figsize=(15,10), dpi = 100)\n",
    "\n",
    "#plt.hist(vandalism['Year'], bins = bins, edgecolor='white')\n",
    "\n",
    "#plt.title('Vandalism', fontsize=15)\n",
    "#plt.ylabel('Occurences', fontsize=15)\n",
    "#plt.xlabel('Year', fontsize=15)\n",
    "\n",
    "#plt.xticks(rotation=90)\n",
    "\n",
    "#plt.show()"
   ]
  },
  {
   "cell_type": "markdown",
   "metadata": {},
   "source": [
    "### VEHICLE THEFT"
   ]
  },
  {
   "cell_type": "code",
   "execution_count": 35,
   "metadata": {},
   "outputs": [],
   "source": [
    "#vt = focusData[focusData['Category'] == 'VEHICLE THEFT'].sort_values(by=['Year']).reset_index(drop=True)\n",
    "#vt = vt.drop(vt[vt['Year'] == '2018'].index)\n",
    "\n",
    "#plt.figure(figsize=(15,10), dpi = 100)\n",
    "\n",
    "#plt.hist(vt['Year'], bins = bins, edgecolor='white')\n",
    "\n",
    "#plt.title('Vehicle Theft', fontsize=15)\n",
    "#plt.ylabel('Occurences', fontsize=15)\n",
    "#plt.xlabel('Year', fontsize=15)\n",
    "\n",
    "#plt.xticks(rotation=90)\n",
    "\n",
    "#plt.show()"
   ]
  },
  {
   "cell_type": "markdown",
   "metadata": {},
   "source": [
    "### ASSAULT"
   ]
  },
  {
   "cell_type": "code",
   "execution_count": 36,
   "metadata": {},
   "outputs": [],
   "source": [
    "#assault = focusData[focusData['Category'] == 'ASSAULT'].sort_values(by=['Year']).reset_index(drop=True)\n",
    "#assault = assault.drop(assault[assault['Year'] == '2018'].index)\n",
    "\n",
    "#plt.figure(figsize=(15,10), dpi = 100)\n",
    "\n",
    "#plt.hist(assault['Year'], bins = bins, edgecolor='white')\n",
    "\n",
    "#plt.title('Assault', fontsize=15)\n",
    "#plt.ylabel('Occurences', fontsize=15)\n",
    "#plt.xlabel('Year', fontsize=15)\n",
    "\n",
    "#plt.xticks(rotation=90)\n",
    "\n",
    "#plt.show()"
   ]
  },
  {
   "cell_type": "markdown",
   "metadata": {},
   "source": [
    "### STOLEN PROPERTY"
   ]
  },
  {
   "cell_type": "code",
   "execution_count": 37,
   "metadata": {
    "scrolled": true
   },
   "outputs": [],
   "source": [
    "#sp = focusData[focusData['Category'] == 'STOLEN PROPERTY'].sort_values(by=['Year']).reset_index(drop=True)\n",
    "#sp = sp.drop(sp[sp['Year'] == '2018'].index)\n",
    "\n",
    "#plt.figure(figsize=(15,10), dpi = 100)\n",
    "\n",
    "#plt.hist(sp['Year'], bins = bins, edgecolor='white')\n",
    "\n",
    "#plt.title('Stolen Property', fontsize=15)\n",
    "#plt.ylabel('Occurences', fontsize=15)\n",
    "#plt.xlabel('Year', fontsize=15)\n",
    "\n",
    "#plt.xticks(rotation=90)\n",
    "\n",
    "#plt.show()"
   ]
  }
 ],
 "metadata": {
  "kernelspec": {
   "display_name": "Python 3",
   "language": "python",
   "name": "python3"
  },
  "language_info": {
   "codemirror_mode": {
    "name": "ipython",
    "version": 3
   },
   "file_extension": ".py",
   "mimetype": "text/x-python",
   "name": "python",
   "nbconvert_exporter": "python",
   "pygments_lexer": "ipython3",
   "version": "3.8.5"
  }
 },
 "nbformat": 4,
 "nbformat_minor": 4
}
